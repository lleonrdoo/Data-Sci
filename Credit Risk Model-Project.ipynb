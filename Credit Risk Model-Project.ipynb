{
 "cells": [
  {
   "cell_type": "markdown",
   "id": "ba5e35b1",
   "metadata": {},
   "source": [
    "# 1. Import Library"
   ]
  },
  {
   "cell_type": "code",
   "execution_count": 1,
   "id": "769c8da9",
   "metadata": {},
   "outputs": [],
   "source": [
    "import numpy as np\n",
    "import pandas as pd\n",
    "\n",
    "import os"
   ]
  },
  {
   "cell_type": "markdown",
   "id": "1d17b5ee",
   "metadata": {},
   "source": [
    "# "
   ]
  },
  {
   "cell_type": "markdown",
   "id": "c8d7d15c",
   "metadata": {},
   "source": [
    "# 2. Target Variables"
   ]
  },
  {
   "cell_type": "code",
   "execution_count": 2,
   "id": "ae0340b0",
   "metadata": {},
   "outputs": [
    {
     "data": {
      "text/plain": [
       "[' 2208541031_Leonardo Edbert Theodora_TUGAS_VI.ipynb',\n",
       " ' Pengiriman Data.ipynb',\n",
       " '.arduinoIDE',\n",
       " '.codeium',\n",
       " '.conda',\n",
       " '.condarc',\n",
       " '.continuum',\n",
       " '.cufflinks',\n",
       " '.ipynb_checkpoints',\n",
       " '.ipython',\n",
       " '.jupyter',\n",
       " '.matplotlib',\n",
       " '.vscode',\n",
       " '2208541031_Leonardo Edbert Theodora_TUGAS_II.ipynb',\n",
       " '2208541031_Leonardo Edbert Theodora_TUGAS_III.ipynb',\n",
       " '2208541031_Leonardo Edbert Theodora_TUGAS_IV.ipynb',\n",
       " '2208541031_Leonardo Edbert Theodora_TUGAS_V.ipynb',\n",
       " '2208541031_Leonardo Edbert Theodora_TUGAS_VI - Jupyter Notebook.html',\n",
       " '2208541031_Leonardo Edbert Theodora_TUGAS_VI - Jupyter Notebook_files',\n",
       " '3D Objects',\n",
       " 'Airbnb - Fix.ipynb',\n",
       " 'Airbnb - Leo.ipynb',\n",
       " 'Airbnb Data Analysis.ipynb',\n",
       " 'airbnb.csv',\n",
       " 'Algo IX.ipynb',\n",
       " 'Algo VII.ipynb',\n",
       " 'anaconda3',\n",
       " 'AppData',\n",
       " 'Application Data',\n",
       " 'asuransi_mobil.csv',\n",
       " 'Breadboard1.fzz',\n",
       " 'bunga_iris.csv',\n",
       " 'bunga_iris_target.csv',\n",
       " 'C++',\n",
       " 'Contacts',\n",
       " 'Cookies',\n",
       " 'Credit Risk Model-Project.ipynb',\n",
       " 'Dataset Pakan.csv',\n",
       " 'data_bunga_iri.csv',\n",
       " 'data_bunga_iris.csv',\n",
       " 'data_bunga_iris.xlsx',\n",
       " 'DATA_bunga_iris_files',\n",
       " 'data_palsu.xlsx',\n",
       " 'Documents',\n",
       " 'Favorites',\n",
       " 'Folder Data Palsu',\n",
       " 'forzip',\n",
       " 'Gabungan Komposisi Awal dengan yang Baru.ipynb',\n",
       " 'grafik.png',\n",
       " 'home.html',\n",
       " 'IoT Pengukur kadar pH.ipynb',\n",
       " 'Kelompok 7 Data Airbnb UAS.ipynb',\n",
       " 'Kelompok 7 Data Airbnb.ipynb',\n",
       " 'Kelompok_7_Airbnb.ipynb',\n",
       " 'Klasifikasi pH berdasarkan warna air.ipynb',\n",
       " 'Klasifikasi pH pada pengujian.ipynb',\n",
       " 'lc_2016_2017.csv',\n",
       " 'Local Settings',\n",
       " 'Main.css',\n",
       " 'Menghitung prediksi pH dari akumulasi jumlah amonia dan pH sebelumnya - Jupyter Notebook.html',\n",
       " 'Menghitung prediksi pH dari akumulasi jumlah amonia dan pH sebelumnya - Jupyter Notebook_files',\n",
       " 'MinGW',\n",
       " 'Music',\n",
       " 'My Documents',\n",
       " 'nama_bunga.csv',\n",
       " 'NetHood',\n",
       " 'NTUSER.DAT',\n",
       " 'ntuser.dat.LOG1',\n",
       " 'ntuser.dat.LOG2',\n",
       " 'NTUSER.DAT{022c84d8-ab51-11ed-8792-d80f99753359}.TxR.0.regtrans-ms',\n",
       " 'NTUSER.DAT{022c84d8-ab51-11ed-8792-d80f99753359}.TxR.1.regtrans-ms',\n",
       " 'NTUSER.DAT{022c84d8-ab51-11ed-8792-d80f99753359}.TxR.2.regtrans-ms',\n",
       " 'NTUSER.DAT{022c84d8-ab51-11ed-8792-d80f99753359}.TxR.blf',\n",
       " 'NTUSER.DAT{022c84d9-ab51-11ed-8792-d80f99753359}.TM.blf',\n",
       " 'NTUSER.DAT{022c84d9-ab51-11ed-8792-d80f99753359}.TMContainer00000000000000000001.regtrans-ms',\n",
       " 'NTUSER.DAT{022c84d9-ab51-11ed-8792-d80f99753359}.TMContainer00000000000000000002.regtrans-ms',\n",
       " 'ntuser.ini',\n",
       " 'OneDrive',\n",
       " 'Percobaan 1 C++',\n",
       " 'PrintHood',\n",
       " 'project ardunio 1',\n",
       " 'python-3.10.1-amd64.exe',\n",
       " 'Recent',\n",
       " 'Saved Games',\n",
       " 'Searches',\n",
       " 'SendTo',\n",
       " 'Start Menu',\n",
       " 'submission.csv',\n",
       " 'Templates',\n",
       " 'tugas vi.ipynb',\n",
       " 'UTS AirBnB.ipynb',\n",
       " 'Videos']"
      ]
     },
     "execution_count": 2,
     "metadata": {},
     "output_type": "execute_result"
    }
   ],
   "source": [
    "os.listdir()"
   ]
  },
  {
   "cell_type": "code",
   "execution_count": 3,
   "id": "e00fd14b",
   "metadata": {},
   "outputs": [
    {
     "name": "stderr",
     "output_type": "stream",
     "text": [
      "C:\\Users\\santi\\AppData\\Local\\Temp\\ipykernel_2908\\4234444771.py:1: DtypeWarning: Columns (18,54) have mixed types. Specify dtype option on import or set low_memory=False.\n",
      "  loan_data = pd.read_csv('lc_2016_2017.csv')\n"
     ]
    }
   ],
   "source": [
    "loan_data = pd.read_csv('lc_2016_2017.csv')"
   ]
  },
  {
   "cell_type": "code",
   "execution_count": 4,
   "id": "de8e0cbc",
   "metadata": {},
   "outputs": [
    {
     "data": {
      "text/html": [
       "<div>\n",
       "<style scoped>\n",
       "    .dataframe tbody tr th:only-of-type {\n",
       "        vertical-align: middle;\n",
       "    }\n",
       "\n",
       "    .dataframe tbody tr th {\n",
       "        vertical-align: top;\n",
       "    }\n",
       "\n",
       "    .dataframe thead th {\n",
       "        text-align: right;\n",
       "    }\n",
       "</style>\n",
       "<table border=\"1\" class=\"dataframe\">\n",
       "  <thead>\n",
       "    <tr style=\"text-align: right;\">\n",
       "      <th></th>\n",
       "      <th>id</th>\n",
       "      <th>member_id</th>\n",
       "      <th>loan_amnt</th>\n",
       "      <th>funded_amnt</th>\n",
       "      <th>funded_amnt_inv</th>\n",
       "      <th>term</th>\n",
       "      <th>int_rate</th>\n",
       "      <th>installment</th>\n",
       "      <th>grade</th>\n",
       "      <th>sub_grade</th>\n",
       "      <th>...</th>\n",
       "      <th>total_bal_il</th>\n",
       "      <th>il_util</th>\n",
       "      <th>open_rv_12m</th>\n",
       "      <th>open_rv_24m</th>\n",
       "      <th>max_bal_bc</th>\n",
       "      <th>all_util</th>\n",
       "      <th>total_rev_hi_lim</th>\n",
       "      <th>inq_fi</th>\n",
       "      <th>total_cu_tl</th>\n",
       "      <th>inq_last_12m</th>\n",
       "    </tr>\n",
       "  </thead>\n",
       "  <tbody>\n",
       "    <tr>\n",
       "      <th>0</th>\n",
       "      <td>112435993</td>\n",
       "      <td>NaN</td>\n",
       "      <td>2300</td>\n",
       "      <td>2300</td>\n",
       "      <td>2300.0</td>\n",
       "      <td>36 months</td>\n",
       "      <td>12.62</td>\n",
       "      <td>77.08</td>\n",
       "      <td>C</td>\n",
       "      <td>C1</td>\n",
       "      <td>...</td>\n",
       "      <td>0.0</td>\n",
       "      <td>NaN</td>\n",
       "      <td>1.0</td>\n",
       "      <td>2.0</td>\n",
       "      <td>2315.0</td>\n",
       "      <td>55.0</td>\n",
       "      <td>7100.0</td>\n",
       "      <td>1.0</td>\n",
       "      <td>0.0</td>\n",
       "      <td>2.0</td>\n",
       "    </tr>\n",
       "    <tr>\n",
       "      <th>1</th>\n",
       "      <td>112290210</td>\n",
       "      <td>NaN</td>\n",
       "      <td>16000</td>\n",
       "      <td>16000</td>\n",
       "      <td>16000.0</td>\n",
       "      <td>60 months</td>\n",
       "      <td>12.62</td>\n",
       "      <td>360.95</td>\n",
       "      <td>C</td>\n",
       "      <td>C1</td>\n",
       "      <td>...</td>\n",
       "      <td>11078.0</td>\n",
       "      <td>69.0</td>\n",
       "      <td>3.0</td>\n",
       "      <td>5.0</td>\n",
       "      <td>1962.0</td>\n",
       "      <td>94.0</td>\n",
       "      <td>31900.0</td>\n",
       "      <td>0.0</td>\n",
       "      <td>6.0</td>\n",
       "      <td>1.0</td>\n",
       "    </tr>\n",
       "    <tr>\n",
       "      <th>2</th>\n",
       "      <td>112436985</td>\n",
       "      <td>NaN</td>\n",
       "      <td>6025</td>\n",
       "      <td>6025</td>\n",
       "      <td>6025.0</td>\n",
       "      <td>36 months</td>\n",
       "      <td>15.05</td>\n",
       "      <td>209.01</td>\n",
       "      <td>C</td>\n",
       "      <td>C4</td>\n",
       "      <td>...</td>\n",
       "      <td>0.0</td>\n",
       "      <td>NaN</td>\n",
       "      <td>1.0</td>\n",
       "      <td>2.0</td>\n",
       "      <td>1950.0</td>\n",
       "      <td>45.0</td>\n",
       "      <td>27700.0</td>\n",
       "      <td>1.0</td>\n",
       "      <td>5.0</td>\n",
       "      <td>3.0</td>\n",
       "    </tr>\n",
       "    <tr>\n",
       "      <th>3</th>\n",
       "      <td>112439006</td>\n",
       "      <td>NaN</td>\n",
       "      <td>20400</td>\n",
       "      <td>20400</td>\n",
       "      <td>20400.0</td>\n",
       "      <td>36 months</td>\n",
       "      <td>9.44</td>\n",
       "      <td>652.91</td>\n",
       "      <td>B</td>\n",
       "      <td>B1</td>\n",
       "      <td>...</td>\n",
       "      <td>53566.0</td>\n",
       "      <td>95.0</td>\n",
       "      <td>1.0</td>\n",
       "      <td>2.0</td>\n",
       "      <td>4240.0</td>\n",
       "      <td>60.0</td>\n",
       "      <td>46900.0</td>\n",
       "      <td>1.0</td>\n",
       "      <td>1.0</td>\n",
       "      <td>1.0</td>\n",
       "    </tr>\n",
       "    <tr>\n",
       "      <th>4</th>\n",
       "      <td>112438929</td>\n",
       "      <td>NaN</td>\n",
       "      <td>13000</td>\n",
       "      <td>13000</td>\n",
       "      <td>13000.0</td>\n",
       "      <td>36 months</td>\n",
       "      <td>11.99</td>\n",
       "      <td>431.73</td>\n",
       "      <td>B</td>\n",
       "      <td>B5</td>\n",
       "      <td>...</td>\n",
       "      <td>8466.0</td>\n",
       "      <td>72.0</td>\n",
       "      <td>0.0</td>\n",
       "      <td>1.0</td>\n",
       "      <td>2996.0</td>\n",
       "      <td>78.0</td>\n",
       "      <td>7800.0</td>\n",
       "      <td>0.0</td>\n",
       "      <td>0.0</td>\n",
       "      <td>0.0</td>\n",
       "    </tr>\n",
       "  </tbody>\n",
       "</table>\n",
       "<p>5 rows × 72 columns</p>\n",
       "</div>"
      ],
      "text/plain": [
       "          id  member_id  loan_amnt  funded_amnt  funded_amnt_inv       term  \\\n",
       "0  112435993        NaN       2300         2300           2300.0  36 months   \n",
       "1  112290210        NaN      16000        16000          16000.0  60 months   \n",
       "2  112436985        NaN       6025         6025           6025.0  36 months   \n",
       "3  112439006        NaN      20400        20400          20400.0  36 months   \n",
       "4  112438929        NaN      13000        13000          13000.0  36 months   \n",
       "\n",
       "   int_rate  installment grade sub_grade  ... total_bal_il il_util  \\\n",
       "0     12.62        77.08     C        C1  ...          0.0     NaN   \n",
       "1     12.62       360.95     C        C1  ...      11078.0    69.0   \n",
       "2     15.05       209.01     C        C4  ...          0.0     NaN   \n",
       "3      9.44       652.91     B        B1  ...      53566.0    95.0   \n",
       "4     11.99       431.73     B        B5  ...       8466.0    72.0   \n",
       "\n",
       "  open_rv_12m  open_rv_24m max_bal_bc all_util total_rev_hi_lim inq_fi  \\\n",
       "0         1.0          2.0     2315.0     55.0           7100.0    1.0   \n",
       "1         3.0          5.0     1962.0     94.0          31900.0    0.0   \n",
       "2         1.0          2.0     1950.0     45.0          27700.0    1.0   \n",
       "3         1.0          2.0     4240.0     60.0          46900.0    1.0   \n",
       "4         0.0          1.0     2996.0     78.0           7800.0    0.0   \n",
       "\n",
       "  total_cu_tl inq_last_12m  \n",
       "0         0.0          2.0  \n",
       "1         6.0          1.0  \n",
       "2         5.0          3.0  \n",
       "3         1.0          1.0  \n",
       "4         0.0          0.0  \n",
       "\n",
       "[5 rows x 72 columns]"
      ]
     },
     "execution_count": 4,
     "metadata": {},
     "output_type": "execute_result"
    }
   ],
   "source": [
    "loan_data.head()"
   ]
  },
  {
   "cell_type": "code",
   "execution_count": 5,
   "id": "e30852d9",
   "metadata": {},
   "outputs": [
    {
     "data": {
      "text/plain": [
       "(759338, 72)"
      ]
     },
     "execution_count": 5,
     "metadata": {},
     "output_type": "execute_result"
    }
   ],
   "source": [
    "loan_data.shape"
   ]
  },
  {
   "cell_type": "code",
   "execution_count": 6,
   "id": "047c7729",
   "metadata": {},
   "outputs": [
    {
     "name": "stdout",
     "output_type": "stream",
     "text": [
      "<class 'pandas.core.frame.DataFrame'>\n",
      "RangeIndex: 759338 entries, 0 to 759337\n",
      "Data columns (total 72 columns):\n",
      " #   Column                       Non-Null Count   Dtype  \n",
      "---  ------                       --------------   -----  \n",
      " 0   id                           759338 non-null  int64  \n",
      " 1   member_id                    0 non-null       float64\n",
      " 2   loan_amnt                    759338 non-null  int64  \n",
      " 3   funded_amnt                  759338 non-null  int64  \n",
      " 4   funded_amnt_inv              759338 non-null  float64\n",
      " 5   term                         759338 non-null  object \n",
      " 6   int_rate                     759338 non-null  float64\n",
      " 7   installment                  759338 non-null  float64\n",
      " 8   grade                        759338 non-null  object \n",
      " 9   sub_grade                    759338 non-null  object \n",
      " 10  emp_title                    708368 non-null  object \n",
      " 11  emp_length                   708975 non-null  object \n",
      " 12  home_ownership               759338 non-null  object \n",
      " 13  annual_inc                   759338 non-null  float64\n",
      " 14  verification_status          759338 non-null  object \n",
      " 15  issue_d                      759338 non-null  object \n",
      " 16  loan_status                  759338 non-null  object \n",
      " 17  pymnt_plan                   759338 non-null  object \n",
      " 18  desc                         17 non-null      object \n",
      " 19  purpose                      759338 non-null  object \n",
      " 20  title                        736165 non-null  object \n",
      " 21  zip_code                     759337 non-null  object \n",
      " 22  addr_state                   759338 non-null  object \n",
      " 23  dti                          758983 non-null  float64\n",
      " 24  delinq_2yrs                  759338 non-null  int64  \n",
      " 25  earliest_cr_line             759338 non-null  object \n",
      " 26  inq_last_6mths               759337 non-null  float64\n",
      " 27  mths_since_last_delinq       396633 non-null  float64\n",
      " 28  mths_since_last_record       141179 non-null  float64\n",
      " 29  open_acc                     759338 non-null  int64  \n",
      " 30  pub_rec                      759338 non-null  int64  \n",
      " 31  revol_bal                    759338 non-null  float64\n",
      " 32  revol_util                   758821 non-null  float64\n",
      " 33  total_acc                    759338 non-null  int64  \n",
      " 34  initial_list_status          759338 non-null  object \n",
      " 35  out_prncp                    759338 non-null  float64\n",
      " 36  out_prncp_inv                759338 non-null  float64\n",
      " 37  total_pymnt                  759338 non-null  float64\n",
      " 38  total_pymnt_inv              759338 non-null  float64\n",
      " 39  total_rec_prncp              759338 non-null  float64\n",
      " 40  total_rec_int                759338 non-null  float64\n",
      " 41  total_rec_late_fee           759338 non-null  float64\n",
      " 42  recoveries                   759338 non-null  float64\n",
      " 43  collection_recovery_fee      759338 non-null  float64\n",
      " 44  last_pymnt_d                 758390 non-null  object \n",
      " 45  last_pymnt_amnt              759338 non-null  float64\n",
      " 46  next_pymnt_d                 591423 non-null  object \n",
      " 47  last_credit_pull_d           759320 non-null  object \n",
      " 48  collections_12_mths_ex_med   759338 non-null  int64  \n",
      " 49  mths_since_last_major_derog  215105 non-null  float64\n",
      " 50  policy_code                  759338 non-null  int64  \n",
      " 51  application_type             759338 non-null  object \n",
      " 52  annual_inc_joint             34003 non-null   float64\n",
      " 53  dti_joint                    34001 non-null   float64\n",
      " 54  verification_status_joint    34003 non-null   object \n",
      " 55  acc_now_delinq               759338 non-null  int64  \n",
      " 56  tot_coll_amt                 759338 non-null  float64\n",
      " 57  tot_cur_bal                  759338 non-null  float64\n",
      " 58  open_acc_6m                  759276 non-null  float64\n",
      " 59  open_il_12m                  759277 non-null  float64\n",
      " 60  open_il_24m                  759277 non-null  float64\n",
      " 61  mths_since_rcnt_il           738795 non-null  float64\n",
      " 62  total_bal_il                 759277 non-null  float64\n",
      " 63  il_util                      658743 non-null  float64\n",
      " 64  open_rv_12m                  759277 non-null  float64\n",
      " 65  open_rv_24m                  759277 non-null  float64\n",
      " 66  max_bal_bc                   759277 non-null  float64\n",
      " 67  all_util                     759224 non-null  float64\n",
      " 68  total_rev_hi_lim             759338 non-null  float64\n",
      " 69  inq_fi                       759277 non-null  float64\n",
      " 70  total_cu_tl                  759276 non-null  float64\n",
      " 71  inq_last_12m                 759276 non-null  float64\n",
      "dtypes: float64(40), int64(10), object(22)\n",
      "memory usage: 417.1+ MB\n"
     ]
    }
   ],
   "source": [
    "loan_data.info()"
   ]
  },
  {
   "cell_type": "code",
   "execution_count": 7,
   "id": "161c2b23",
   "metadata": {},
   "outputs": [
    {
     "data": {
      "text/plain": [
       "array(['Current', 'Fully Paid', 'In Grace Period', 'Late (31-120 days)',\n",
       "       'Late (16-30 days)', 'Charged Off', 'Default'], dtype=object)"
      ]
     },
     "execution_count": 7,
     "metadata": {},
     "output_type": "execute_result"
    }
   ],
   "source": [
    "# Fungsi 'unique()' pada suatu series dalam library pandas \n",
    "# digunakan untuk mengidentifikasi nilai-nilai unik yang terdapat dalam series tersebut.\n",
    "# Dalam kasus ini dapat digunakan untuk memeriksa DataFrame yang berisi data string.\n",
    "\n",
    "loan_data.loan_status.unique()"
   ]
  },
  {
   "cell_type": "code",
   "execution_count": 8,
   "id": "703ce18d",
   "metadata": {},
   "outputs": [],
   "source": [
    "# Syntax tersebut digunakan untuk membuat kolom baru bernama 'good_bad' dalam DataFrame loan_data. \n",
    "# Kolom ini bertujuan untuk melihat kolom 'good_bad' yang berisikan data numerik '0' = pembayaran tepat waktu\n",
    "# dan '1' = pembayaran tidak tepat waktu.\n",
    "\n",
    "loan_data['good_bad'] = np.where(loan_data.loc[:, 'loan_status'].isin(['Charged Off', \n",
    "                                                                   'Default', 'Late (31-120 days)', 'Late (16-30 days)'])\n",
    "                                 , 1, 0)"
   ]
  },
  {
   "cell_type": "code",
   "execution_count": 9,
   "id": "68645f72",
   "metadata": {},
   "outputs": [
    {
     "data": {
      "text/plain": [
       "0    702875\n",
       "1     56463\n",
       "Name: good_bad, dtype: int64"
      ]
     },
     "execution_count": 9,
     "metadata": {},
     "output_type": "execute_result"
    }
   ],
   "source": [
    "# Berikut adalah banyaknya nilai data yang 'pembayaran tepat waktu' dan 'pembayaran tidak tepat waktu'\n",
    "\n",
    "loan_data.good_bad.value_counts()"
   ]
  },
  {
   "cell_type": "markdown",
   "id": "f7325540",
   "metadata": {},
   "source": [
    "# "
   ]
  },
  {
   "cell_type": "markdown",
   "id": "2c0fc2c1",
   "metadata": {},
   "source": [
    "# 3. Missing Value"
   ]
  },
  {
   "cell_type": "code",
   "execution_count": 10,
   "id": "f59b8583",
   "metadata": {},
   "outputs": [
    {
     "data": {
      "text/html": [
       "<div>\n",
       "<style scoped>\n",
       "    .dataframe tbody tr th:only-of-type {\n",
       "        vertical-align: middle;\n",
       "    }\n",
       "\n",
       "    .dataframe tbody tr th {\n",
       "        vertical-align: top;\n",
       "    }\n",
       "\n",
       "    .dataframe thead th {\n",
       "        text-align: right;\n",
       "    }\n",
       "</style>\n",
       "<table border=\"1\" class=\"dataframe\">\n",
       "  <thead>\n",
       "    <tr style=\"text-align: right;\">\n",
       "      <th></th>\n",
       "      <th>loan_status</th>\n",
       "      <th>good_bad</th>\n",
       "    </tr>\n",
       "  </thead>\n",
       "  <tbody>\n",
       "    <tr>\n",
       "      <th>0</th>\n",
       "      <td>Current</td>\n",
       "      <td>0</td>\n",
       "    </tr>\n",
       "    <tr>\n",
       "      <th>1</th>\n",
       "      <td>Current</td>\n",
       "      <td>0</td>\n",
       "    </tr>\n",
       "    <tr>\n",
       "      <th>2</th>\n",
       "      <td>Current</td>\n",
       "      <td>0</td>\n",
       "    </tr>\n",
       "    <tr>\n",
       "      <th>3</th>\n",
       "      <td>Current</td>\n",
       "      <td>0</td>\n",
       "    </tr>\n",
       "    <tr>\n",
       "      <th>4</th>\n",
       "      <td>Current</td>\n",
       "      <td>0</td>\n",
       "    </tr>\n",
       "    <tr>\n",
       "      <th>...</th>\n",
       "      <td>...</td>\n",
       "      <td>...</td>\n",
       "    </tr>\n",
       "    <tr>\n",
       "      <th>759333</th>\n",
       "      <td>Current</td>\n",
       "      <td>0</td>\n",
       "    </tr>\n",
       "    <tr>\n",
       "      <th>759334</th>\n",
       "      <td>Current</td>\n",
       "      <td>0</td>\n",
       "    </tr>\n",
       "    <tr>\n",
       "      <th>759335</th>\n",
       "      <td>Late (16-30 days)</td>\n",
       "      <td>1</td>\n",
       "    </tr>\n",
       "    <tr>\n",
       "      <th>759336</th>\n",
       "      <td>Current</td>\n",
       "      <td>0</td>\n",
       "    </tr>\n",
       "    <tr>\n",
       "      <th>759337</th>\n",
       "      <td>Current</td>\n",
       "      <td>0</td>\n",
       "    </tr>\n",
       "  </tbody>\n",
       "</table>\n",
       "<p>759338 rows × 2 columns</p>\n",
       "</div>"
      ],
      "text/plain": [
       "              loan_status  good_bad\n",
       "0                 Current         0\n",
       "1                 Current         0\n",
       "2                 Current         0\n",
       "3                 Current         0\n",
       "4                 Current         0\n",
       "...                   ...       ...\n",
       "759333            Current         0\n",
       "759334            Current         0\n",
       "759335  Late (16-30 days)         1\n",
       "759336            Current         0\n",
       "759337            Current         0\n",
       "\n",
       "[759338 rows x 2 columns]"
      ]
     },
     "execution_count": 10,
     "metadata": {},
     "output_type": "execute_result"
    }
   ],
   "source": [
    "# Berikut adalah perbandingan kolom 'loan_status' dan 'good_bad'\n",
    "\n",
    "loan_data[['loan_status', 'good_bad']]"
   ]
  },
  {
   "cell_type": "code",
   "execution_count": 11,
   "id": "24293ebc",
   "metadata": {},
   "outputs": [
    {
     "data": {
      "text/html": [
       "<div>\n",
       "<style scoped>\n",
       "    .dataframe tbody tr th:only-of-type {\n",
       "        vertical-align: middle;\n",
       "    }\n",
       "\n",
       "    .dataframe tbody tr th {\n",
       "        vertical-align: top;\n",
       "    }\n",
       "\n",
       "    .dataframe thead th {\n",
       "        text-align: right;\n",
       "    }\n",
       "</style>\n",
       "<table border=\"1\" class=\"dataframe\">\n",
       "  <thead>\n",
       "    <tr style=\"text-align: right;\">\n",
       "      <th></th>\n",
       "      <th>0</th>\n",
       "    </tr>\n",
       "  </thead>\n",
       "  <tbody>\n",
       "    <tr>\n",
       "      <th>member_id</th>\n",
       "      <td>1.000000</td>\n",
       "    </tr>\n",
       "    <tr>\n",
       "      <th>desc</th>\n",
       "      <td>0.999978</td>\n",
       "    </tr>\n",
       "    <tr>\n",
       "      <th>dti_joint</th>\n",
       "      <td>0.955223</td>\n",
       "    </tr>\n",
       "    <tr>\n",
       "      <th>annual_inc_joint</th>\n",
       "      <td>0.955220</td>\n",
       "    </tr>\n",
       "    <tr>\n",
       "      <th>verification_status_joint</th>\n",
       "      <td>0.955220</td>\n",
       "    </tr>\n",
       "    <tr>\n",
       "      <th>mths_since_last_record</th>\n",
       "      <td>0.814076</td>\n",
       "    </tr>\n",
       "    <tr>\n",
       "      <th>mths_since_last_major_derog</th>\n",
       "      <td>0.716720</td>\n",
       "    </tr>\n",
       "  </tbody>\n",
       "</table>\n",
       "</div>"
      ],
      "text/plain": [
       "                                    0\n",
       "member_id                    1.000000\n",
       "desc                         0.999978\n",
       "dti_joint                    0.955223\n",
       "annual_inc_joint             0.955220\n",
       "verification_status_joint    0.955220\n",
       "mths_since_last_record       0.814076\n",
       "mths_since_last_major_derog  0.716720"
      ]
     },
     "execution_count": 11,
     "metadata": {},
     "output_type": "execute_result"
    }
   ],
   "source": [
    "# - loan_data.isnull().sum(): Menghitung jumlah nilai-nilai yang hilang (NaN) dalam setiap kolom DataFrame loan_data.\n",
    "# - / loan_data.shape[0]: Membagi setiap jumlah nilai-nilai yang hilang dengan jumlah baris total dalam DataFrame \n",
    "# (loan_data.shape[0]) untuk mendapatkan proporsi nilai-nilai yang hilang relatif terhadap jumlah baris.\n",
    "# - pd.DataFrame(...): Membuat DataFrame baru dari hasil perhitungan di atas.\n",
    "\n",
    "missing_values = pd.DataFrame(loan_data.isnull().sum()/loan_data.shape[0])\n",
    "\n",
    "\n",
    "# - missing_values.iloc[:, 0]: Memilih nilai-nilai dalam kolom pertama dari DataFrame \n",
    "# missing_values (yaitu, kolom yang berisi proporsi nilai-nilai yang hilang). \n",
    "# - [...] > 0.50: Membuat kondisi yang memilih hanya baris-baris di mana proporsi nilai-nilai yang hilang lebih dari 50%.\n",
    "# - missing_values[...]: Memilih hanya baris-baris yang memenuhi kondisi tersebut, sehingga menghasilkan DataFrame baru yang \n",
    "# hanya berisi kolom-kolom yang memiliki lebih dari 50% nilai-nilai yang hilang.\n",
    "\n",
    "missing_values = missing_values[missing_values.iloc[:,0] > 0.50]\n",
    "\n",
    "\n",
    "# - missing_values.sort_values([0], ascending=False): Mengurutkan DataFrame missing_values berdasarkan nilai\n",
    "# kolom pertama (0), yang merupakan proporsi nilai-nilai yang hilang.\n",
    "# - ascending=False: Mengurutkan secara menurun, sehingga kolom dengan proporsi nilai-nilai \n",
    "# yang hilang terbesar akan berada di bagian atas DataFrame.\n",
    "\n",
    "missing_values.sort_values([0], ascending=False)"
   ]
  },
  {
   "cell_type": "code",
   "execution_count": 12,
   "id": "b9e54427",
   "metadata": {},
   "outputs": [],
   "source": [
    "# - loan_data.shape[0]: Mengambil jumlah baris dalam DataFrame loan_data.\n",
    "# - how='all': Ini berarti kolom akan dihapus hanya jika seluruh baris dalam kolom tersebut memiliki nilai yang hilang.\n",
    "# - axis=1: Menunjukkan bahwa kita ingin melakukan operasi pada kolom (bukan baris).\n",
    "# - inplace=True: Menunjukkan bahwa perubahan akan dilakukan langsung pada DataFrame \n",
    "# loan_data tanpa perlu menyimpan hasilnya ke variabel baru.\n",
    "\n",
    "loan_data.dropna(thresh = loan_data.shape[0]*0.5, how='all' , axis=1 , inplace=True)"
   ]
  },
  {
   "cell_type": "code",
   "execution_count": 13,
   "id": "d9fd9ef2",
   "metadata": {},
   "outputs": [
    {
     "data": {
      "text/html": [
       "<div>\n",
       "<style scoped>\n",
       "    .dataframe tbody tr th:only-of-type {\n",
       "        vertical-align: middle;\n",
       "    }\n",
       "\n",
       "    .dataframe tbody tr th {\n",
       "        vertical-align: top;\n",
       "    }\n",
       "\n",
       "    .dataframe thead th {\n",
       "        text-align: right;\n",
       "    }\n",
       "</style>\n",
       "<table border=\"1\" class=\"dataframe\">\n",
       "  <thead>\n",
       "    <tr style=\"text-align: right;\">\n",
       "      <th></th>\n",
       "      <th>0</th>\n",
       "    </tr>\n",
       "  </thead>\n",
       "  <tbody>\n",
       "  </tbody>\n",
       "</table>\n",
       "</div>"
      ],
      "text/plain": [
       "Empty DataFrame\n",
       "Columns: [0]\n",
       "Index: []"
      ]
     },
     "execution_count": 13,
     "metadata": {},
     "output_type": "execute_result"
    }
   ],
   "source": [
    "# Berikut adalah hasil dari pembersihan data yang memiliki lebih dari 50% nilai-nilai yang hilang\n",
    "\n",
    "missing_values = pd.DataFrame(loan_data.isnull().sum()/loan_data.shape[0])\n",
    "missing_values = missing_values[missing_values.iloc[:,0] > 0.50]\n",
    "missing_values.sort_values([0], ascending=False)"
   ]
  },
  {
   "cell_type": "markdown",
   "id": "8a749412",
   "metadata": {},
   "source": [
    "# "
   ]
  },
  {
   "cell_type": "markdown",
   "id": "17772770",
   "metadata": {},
   "source": [
    "# 4. Data Splitting "
   ]
  },
  {
   "cell_type": "code",
   "execution_count": 14,
   "id": "5e636429",
   "metadata": {},
   "outputs": [
    {
     "data": {
      "text/plain": [
       "(759338, 66)"
      ]
     },
     "execution_count": 14,
     "metadata": {},
     "output_type": "execute_result"
    }
   ],
   "source": [
    "# Dapat dilihat bahwa terdapat 750k++ baris data dan 66 kolom\n",
    "\n",
    "loan_data.shape"
   ]
  },
  {
   "cell_type": "code",
   "execution_count": 15,
   "id": "fc7e0f3c",
   "metadata": {},
   "outputs": [],
   "source": [
    "# Akan diimport train_test_spli dari library sklearn.model_selection untuk membentuk model machine learning\n",
    "\n",
    "from sklearn.model_selection import train_test_split"
   ]
  },
  {
   "cell_type": "code",
   "execution_count": 16,
   "id": "30a989fb",
   "metadata": {},
   "outputs": [],
   "source": [
    "# Data akan dibagi menjadi 80% train set dan 20% test set\n",
    "# X adalah seluruh kolom dari DataFrame kecuali kolom 'good_bad'\n",
    "# y adalah kolom 'good_bad'\n",
    "X = loan_data.drop('good_bad', axis=1)\n",
    "y = loan_data['good_bad']\n",
    "\n",
    "# - 'test_size=0.2', Parameter ini menentukan proporsi data yang akan dialokasikan sebagai test set\n",
    "# - 'stratify=y', Parameter ini digunakan untuk memastikan bahwa distribusi kelas pada train set\n",
    "# dan test set tetap sama seperti distribusi kelas pada dataset asli\n",
    "# - 'random_state=42', Parameter ini memberikan nilai seed untuk generator angka acak\n",
    "X_train, X_test, y_train, y_test = train_test_split(X, y, test_size=0.2, stratify=y, random_state=42)"
   ]
  },
  {
   "cell_type": "code",
   "execution_count": 17,
   "id": "f14b655e",
   "metadata": {},
   "outputs": [
    {
     "data": {
      "text/plain": [
       "0    0.925642\n",
       "1    0.074358\n",
       "Name: good_bad, dtype: float64"
      ]
     },
     "execution_count": 17,
     "metadata": {},
     "output_type": "execute_result"
    }
   ],
   "source": [
    "# Berikut adalah perbandingan nilai 'good' (0) dan 'bad' (1) yang sudah displitting pada train set\n",
    "y_train.value_counts(normalize=True)"
   ]
  },
  {
   "cell_type": "code",
   "execution_count": 18,
   "id": "d1da8e22",
   "metadata": {},
   "outputs": [
    {
     "data": {
      "text/plain": [
       "0    0.925639\n",
       "1    0.074361\n",
       "Name: good_bad, dtype: float64"
      ]
     },
     "execution_count": 18,
     "metadata": {},
     "output_type": "execute_result"
    }
   ],
   "source": [
    "# Berikut adalah perbandingan nilai 'good' (0) dan 'bad' (1) yang sudah displitting pada test set\n",
    "y_test.value_counts(normalize=True)"
   ]
  },
  {
   "cell_type": "markdown",
   "id": "49cf5ad9",
   "metadata": {},
   "source": [
    "# "
   ]
  },
  {
   "cell_type": "markdown",
   "id": "3ccc5804",
   "metadata": {},
   "source": [
    "# 5. Data Cleaning"
   ]
  },
  {
   "cell_type": "code",
   "execution_count": 19,
   "id": "c54b0570",
   "metadata": {},
   "outputs": [
    {
     "data": {
      "text/plain": [
       "(607470, 65)"
      ]
     },
     "execution_count": 19,
     "metadata": {},
     "output_type": "execute_result"
    }
   ],
   "source": [
    "# Berikut adalah data X_train\n",
    "\n",
    "X_train.shape"
   ]
  },
  {
   "cell_type": "code",
   "execution_count": 20,
   "id": "17135af0",
   "metadata": {},
   "outputs": [
    {
     "name": "stdout",
     "output_type": "stream",
     "text": [
      "term\n",
      "['36 months' '60 months']\n",
      "\n",
      "grade\n",
      "['C' 'A' 'B' 'E' 'D' 'G' 'F']\n",
      "\n",
      "sub_grade\n",
      "['C1' 'A1' 'B1' 'B5' 'A4' 'E2' 'A5' 'D1' 'C4' 'C3' 'G3' 'D3' 'E1' 'C5'\n",
      " 'D2' 'C2' 'A2' 'E3' 'D5' 'E4' 'B2' 'F2' 'B4' 'A3' 'D4' 'B3' 'F1' 'F5'\n",
      " 'G2' 'E5' 'F3' 'G1' 'G5' 'F4' 'G4']\n",
      "\n",
      "emp_title\n",
      "['Administrative assistant' 'director of workforce development' 'Nanny'\n",
      " ... 'Operations Planning Manager' 'Sr. xPression Developer'\n",
      " 'making plant planner']\n",
      "\n",
      "emp_length\n",
      "['4 years' '10+ years' '< 1 year' '5 years' '6 years' '7 years' '2 years'\n",
      " '3 years' '8 years' '1 year' nan '9 years']\n",
      "\n",
      "home_ownership\n",
      "['MORTGAGE' 'RENT' 'OWN' 'ANY' 'NONE']\n",
      "\n",
      "verification_status\n",
      "['Source Verified' 'Not Verified' 'Verified']\n",
      "\n",
      "issue_d\n",
      "['Feb-2017' 'Apr-2016' 'Jul-2017' 'Oct-2016' 'Mar-2017' 'May-2016'\n",
      " 'Mar-2016' 'Aug-2017' 'Jul-2016' 'Jan-2017' 'Sep-2016' 'Aug-2016'\n",
      " 'Nov-2016' 'Dec-2016' 'Jun-2016' 'Sep-2017' 'Feb-2016' 'May-2017'\n",
      " 'Jun-2017' 'Apr-2017' 'Jan-2016']\n",
      "\n",
      "loan_status\n",
      "['Current' 'Fully Paid' 'Late (16-30 days)' 'Charged Off'\n",
      " 'Late (31-120 days)' 'In Grace Period' 'Default']\n",
      "\n",
      "pymnt_plan\n",
      "['n' 'y']\n",
      "\n",
      "purpose\n",
      "['debt_consolidation' 'credit_card' 'home_improvement' 'other' 'moving'\n",
      " 'vacation' 'medical' 'major_purchase' 'small_business' 'car' 'house'\n",
      " 'renewable_energy' 'wedding']\n",
      "\n",
      "title\n",
      "['Debt consolidation' 'Credit card refinancing' 'Home improvement' 'Other'\n",
      " 'Moving and relocation' 'Vacation' 'Medical expenses' 'Major purchase'\n",
      " 'Business' 'Car financing' nan 'Home buying' 'Green loan'\n",
      " 'Credit Card Consolidation']\n",
      "\n",
      "zip_code\n",
      "['582xx' '112xx' '840xx' '334xx' '602xx' '750xx' '182xx' '306xx' '201xx'\n",
      " '546xx' '321xx' '220xx' '448xx' '761xx' '832xx' '608xx' '614xx' '917xx'\n",
      " '658xx' '841xx' '473xx' '752xx' '770xx' '344xx' '927xx' '076xx' '956xx'\n",
      " '296xx' '145xx' '117xx' '765xx' '482xx' '619xx' '600xx' '103xx' '545xx'\n",
      " '946xx' '300xx' '773xx' '333xx' '330xx' '065xx' '870xx' '325xx' '376xx'\n",
      " '857xx' '346xx' '900xx' '551xx' '774xx' '430xx' '462xx' '786xx' '933xx'\n",
      " '115xx' '223xx' '980xx' '704xx' '944xx' '799xx' '461xx' '945xx' '563xx'\n",
      " '120xx' '757xx' '441xx' '118xx' '930xx' '554xx' '630xx' '953xx' '801xx'\n",
      " '234xx' '809xx' '705xx' '672xx' '221xx' '156xx' '024xx' '924xx' '891xx'\n",
      " '559xx' '140xx' '543xx' '021xx' '174xx' '331xx' '207xx' '232xx' '327xx'\n",
      " '601xx' '970xx' '626xx' '937xx' '836xx' '923xx' '950xx' '357xx' '322xx'\n",
      " '385xx' '853xx' '605xx' '317xx' '381xx' '544xx' '606xx' '532xx' '083xx'\n",
      " '913xx' '062xx' '925xx' '339xx' '484xx' '085xx' '481xx' '271xx' '314xx'\n",
      " '294xx' '442xx' '122xx' '307xx' '086xx' '180xx' '175xx' '347xx' '397xx'\n",
      " '060xx' '224xx' '851xx' '703xx' '370xx' '210xx' '111xx' '100xx' '561xx'\n",
      " '116xx' '731xx' '730xx' '492xx' '367xx' '763xx' '390xx' '986xx' '791xx'\n",
      " '087xx' '989xx' '176xx' '394xx' '982xx' '607xx' '022xx' '383xx' '641xx'\n",
      " '301xx' '955xx' '958xx' '898xx' '920xx' '787xx' '082xx' '664xx' '350xx'\n",
      " '144xx' '123xx' '191xx' '195xx' '142xx' '067xx' '781xx' '308xx' '054xx'\n",
      " '284xx' '480xx' '200xx' '940xx' '068xx' '477xx' '902xx' '403xx' '721xx'\n",
      " '286xx' '895xx' '316xx' '934xx' '107xx' '843xx' '146xx' '352xx' '813xx'\n",
      " '292xx' '784xx' '611xx' '560xx' '921xx' '974xx' '816xx' '800xx' '926xx'\n",
      " '795xx' '043xx' '871xx' '954xx' '610xx' '769xx' '435xx' '313xx' '151xx'\n",
      " '985xx' '190xx' '806xx' '928xx' '297xx' '080xx' '310xx' '199xx' '440xx'\n",
      " '386xx' '410xx' '184xx' '164xx' '108xx' '290xx' '420xx' '855xx' '105xx'\n",
      " '802xx' '150xx' '189xx' '212xx' '365xx' '688xx' '114xx' '618xx' '620xx'\n",
      " '992xx' '081xx' '941xx' '374xx' '388xx' '640xx' '907xx' '032xx' '960xx'\n",
      " '637xx' '019xx' '405xx' '070xx' '109xx' '775xx' '126xx' '337xx' '371xx'\n",
      " '282xx' '245xx' '162xx' '951xx' '302xx' '540xx' '402xx' '161xx' '088xx'\n",
      " '128xx' '206xx' '014xx' '820xx' '479xx' '741xx' '947xx' '455xx' '852xx'\n",
      " '939xx' '847xx' '303xx' '173xx' '740xx' '531xx' '243xx' '121xx' '728xx'\n",
      " '794xx' '219xx' '395xx' '760xx' '335xx' '452xx' '165xx' '027xx' '487xx'\n",
      " '793xx' '812xx' '208xx' '918xx' '668xx' '975xx' '336xx' '288xx' '141xx'\n",
      " '178xx' '967xx' '622xx' '557xx' '755xx' '691xx' '380xx' '432xx' '104xx'\n",
      " '910xx' '756xx' '137xx' '318xx' '780xx' '971xx' '160xx' '850xx' '977xx'\n",
      " '229xx' '754xx' '657xx' '762xx' '700xx' '631xx' '478xx' '131xx' '718xx'\n",
      " '378xx' '856xx' '281xx' '342xx' '655xx' '726xx' '968xx' '727xx' '071xx'\n",
      " '285xx' '113xx' '226xx' '132xx' '216xx' '530xx' '919xx' '170xx' '908xx'\n",
      " '433xx' '079xx' '073xx' '973xx' '782xx' '379xx' '125xx' '636xx' '102xx'\n",
      " '171xx' '711xx' '217xx' '935xx' '349xx' '023xx' '995xx' '236xx' '360xx'\n",
      " '604xx' '829xx' '312xx' '751xx' '633xx' '153xx' '030xx' '609xx' '625xx'\n",
      " '338xx' '573xx' '598xx' '074xx' '768xx' '460xx' '983xx' '894xx' '351xx'\n",
      " '463xx' '932xx' '903xx' '805xx' '767xx' '078xx' '490xx' '015xx' '066xx'\n",
      " '194xx' '275xx' '535xx' '278xx' '707xx' '020xx' '736xx' '984xx' '436xx'\n",
      " '617xx' '222xx' '225xx' '280xx' '562xx' '454xx' '064xx' '063xx' '183xx'\n",
      " '069xx' '028xx' '948xx' '368xx' '686xx' '860xx' '612xx' '241xx' '017xx'\n",
      " '233xx' '882xx' '961xx' '661xx' '018xx' '922xx' '298xx' '599xx' '422xx'\n",
      " '660xx' '215xx' '587xx' '407xx' '042xx' '810xx' '990xx' '488xx' '193xx'\n",
      " '949xx' '890xx' '453xx' '779xx' '045xx' '483xx' '723xx' '328xx' '299xx'\n",
      " '061xx' '293xx' '398xx' '916xx' '537xx' '959xx' '498xx' '833xx' '354xx'\n",
      " '565xx' '553xx' '013xx' '720xx' '037xx' '450xx' '936xx' '656xx' '320xx'\n",
      " '706xx' '119xx' '996xx' '138xx' '981xx' '135xx' '495xx' '329xx' '052xx'\n",
      " '804xx' '547xx' '211xx' '666xx' '186xx' '309xx' '789xx' '491xx' '881xx'\n",
      " '486xx' '358xx' '434xx' '549xx' '456xx' '287xx' '026xx' '089xx' '952xx'\n",
      " '242xx' '685xx' '127xx' '359xx' '362xx' '558xx' '997xx' '591xx' '332xx'\n",
      " '638xx' '075xx' '496xx' '283xx' '077xx' '417xx' '072xx' '972xx' '724xx'\n",
      " '038xx' '238xx' '662xx' '172xx' '576xx' '444xx' '785xx' '295xx' '136xx'\n",
      " '877xx' '152xx' '897xx' '808xx' '683xx' '305xx' '623xx' '828xx' '130xx'\n",
      " '737xx' '373xx' '639xx' '597xx' '803xx' '548xx' '485xx' '584xx' '276xx'\n",
      " '270xx' '567xx' '466xx' '679xx' '722xx' '235xx' '467xx' '031xx' '712xx'\n",
      " '716xx' '177xx' '449xx' '049xx' '458xx' '550xx' '647xx' '864xx' '416xx'\n",
      " '451xx' '880xx' '906xx' '654xx' '411xx' '797xx' '396xx' '240xx' '404xx'\n",
      " '391xx' '437xx' '796xx' '425xx' '465xx' '783xx' '382xx' '446xx' '443xx'\n",
      " '988xx' '714xx' '914xx' '596xx' '029xx' '590xx' '124xx' '863xx' '110xx'\n",
      " '209xx' '571xx' '747xx' '157xx' '693xx' '326xx' '392xx' '277xx' '469xx'\n",
      " '826xx' '025xx' '777xx' '400xx' '273xx' '010xx' '915xx' '585xx' '680xx'\n",
      " '044xx' '364xx' '324xx' '497xx' '627xx' '541xx' '993xx' '827xx' '421xx'\n",
      " '616xx' '047xx' '366xx' '231xx' '159xx' '050xx' '564xx' '274xx' '748xx'\n",
      " '154xx' '272xx' '218xx' '846xx' '431xx' '155xx' '681xx' '196xx' '978xx'\n",
      " '729xx' '807xx' '134xx' '406xx' '811xx' '834xx' '129xx' '790xx' '355xx'\n",
      " '291xx' '581xx' '825xx' '586xx' '725xx' '613xx' '675xx' '566xx' '341xx'\n",
      " '494xx' '377xx' '539xx' '039xx' '323xx' '652xx' '244xx' '447xx' '837xx'\n",
      " '372xx' '230xx' '719xx' '254xx' '198xx' '588xx' '401xx' '106xx' '957xx'\n",
      " '776xx' '315xx' '538xx' '147xx' '423xx' '181xx' '594xx' '788xx' '389xx'\n",
      " '163xx' '471xx' '976xx' '838xx' '644xx' '053xx' '999xx' '580xx' '185xx'\n",
      " '012xx' '778xx' '384xx' '671xx' '592xx' '875xx' '615xx' '542xx' '279xx'\n",
      " '991xx' '735xx' '197xx' '493xx' '603xx' '708xx' '815xx' '713xx' '766xx'\n",
      " '101xx' '319xx' '687xx' '168xx' '051xx' '905xx' '745xx' '912xx' '814xx'\n",
      " '214xx' '057xx' '701xx' '356xx' '676xx' '911xx' '040xx' '577xx' '739xx'\n",
      " '239xx' '179xx' '670xx' '267xx' '408xx' '166xx' '943xx' '143xx' '424xx'\n",
      " '255xx' '016xx' '237xx' '689xx' '264xx' '824xx' '415xx' '865xx' '048xx'\n",
      " '426xx' '470xx' '188xx' '710xx' '667xx' '648xx' '475xx' '474xx' '289xx'\n",
      " '228xx' '489xx' '931xx' '678xx' '574xx' '033xx' '645xx' '717xx' '468xx'\n",
      " '665xx' '034xx' '187xx' '445xx' '674xx' '133xx' '998xx' '035xx' '635xx'\n",
      " '759xx' '393xx' '412xx' '427xx' '253xx' '464xx' '844xx' '904xx' '734xx'\n",
      " '265xx' '883xx' '149xx' '363xx' '979xx' '874xx' '227xx' '624xx' '058xx'\n",
      " '361xx' '650xx' '651xx' '570xx' '653xx' '628xx' '893xx' '969xx' '084xx'\n",
      " '583xx' '673xx' '835xx' '158xx' '439xx' '629xx' '634xx' '369xx' '438xx'\n",
      " '263xx' '764xx' '148xx' '738xx' '304xx' '011xx' '822xx' '139xx' '593xx'\n",
      " '257xx' '258xx' '743xx' '744xx' '041xx' '457xx' '387xx' '684xx' '845xx'\n",
      " '311xx' '772xx' '575xx' '859xx' '046xx' '823xx' '260xx' '873xx' '409xx'\n",
      " '646xx' '534xx' '556xx' '499xx' '246xx' '097xx' '472xx' '595xx' '798xx'\n",
      " '167xx' '056xx' '963xx' '758xx' '749xx' '476xx' '746xx' '256xx' '418xx'\n",
      " '413xx' '572xx' '878xx' '059xx' '677xx' '994xx' '008xx' '987xx' '091xx'\n",
      " '879xx' '414xx' '262xx' '251xx' '966xx' '095xx' '831xx' '096xx' '261xx'\n",
      " '690xx' '692xx' '345xx' '884xx' '268xx' '942xx' '250xx' '669xx' '266xx'\n",
      " '169xx' '249xx' '036xx' '821xx' '792xx' '830xx' '090xx' '525xx' '007xx'\n",
      " '247xx' '502xx' '252xx' '742xx' '259xx' '962xx' '621xx' '694xx' '098xx'\n",
      " '753xx' '248xx' '510xx' '094xx' '343xx' '093xx' '203xx' '964xx' '709xx'\n",
      " '340xx' '555xx' '500xx' '698xx' '885xx' '663xx' '909xx' '055xx' '569xx'\n",
      " '092xx' '901xx' '854xx' '702xx' '202xx' '696xx' '348xx' '528xx' '353xx'\n",
      " '204xx' '506xx' '521xx' '872xx' '523xx' '965xx' nan]\n",
      "\n",
      "addr_state\n",
      "['ND' 'NY' 'UT' 'FL' 'IL' 'TX' 'PA' 'GA' 'VA' 'WI' 'OH' 'ID' 'CA' 'MO'\n",
      " 'IN' 'NJ' 'SC' 'MI' 'CT' 'NM' 'TN' 'AZ' 'MN' 'WA' 'LA' 'CO' 'KS' 'MA'\n",
      " 'NV' 'MD' 'OR' 'AL' 'NC' 'MS' 'OK' 'VT' 'DC' 'KY' 'AR' 'ME' 'DE' 'NE'\n",
      " 'NH' 'WY' 'HI' 'AK' 'SD' 'MT' 'RI' 'WV']\n",
      "\n",
      "earliest_cr_line\n"
     ]
    },
    {
     "name": "stdout",
     "output_type": "stream",
     "text": [
      "['Aug-1994' 'Sep-2001' 'May-1999' 'Jun-2005' 'Jan-2012' 'Jan-2001'\n",
      " 'Aug-1991' 'Feb-2006' 'Oct-1989' 'Oct-2000' 'Jun-2001' 'Dec-1993'\n",
      " 'May-1989' 'Sep-2006' 'Sep-1997' 'Sep-2003' 'May-1982' 'Dec-1996'\n",
      " 'Jun-1999' 'Oct-2003' 'Sep-2008' 'May-1994' 'Sep-2004' 'Jul-2007'\n",
      " 'Feb-2008' 'Aug-1985' 'Aug-2002' 'Nov-1998' 'Mar-2012' 'Feb-1993'\n",
      " 'Aug-2001' 'May-1987' 'Mar-2004' 'Mar-1978' 'Apr-1996' 'Oct-1995'\n",
      " 'May-2006' 'Oct-2012' 'Dec-2001' 'Jul-2001' 'May-2004' 'Feb-2005'\n",
      " 'Jul-1995' 'May-2007' 'Feb-2004' 'Feb-2001' 'Jul-2004' 'Sep-1998'\n",
      " 'Jul-2006' 'Sep-1993' 'Jun-2012' 'Jul-2005' 'Jun-2011' 'Nov-2006'\n",
      " 'Nov-2002' 'Jan-1996' 'Jul-2003' 'Sep-2007' 'Aug-1999' 'Feb-1994'\n",
      " 'Apr-2003' 'Aug-2004' 'Oct-2013' 'Dec-2002' 'May-2012' 'Aug-1998'\n",
      " 'Aug-1997' 'Feb-1981' 'Oct-2004' 'Apr-2007' 'Mar-1993' 'Dec-1989'\n",
      " 'Apr-2006' 'Apr-2005' 'Nov-2011' 'Aug-2008' 'Aug-2003' 'May-1997'\n",
      " 'Apr-1997' 'Dec-2005' 'Oct-1990' 'Sep-1995' 'Dec-2004' 'Nov-1992'\n",
      " 'Sep-2002' 'Aug-2009' 'Oct-1994' 'Aug-2007' 'Jun-1997' 'Jun-2007'\n",
      " 'Jul-2008' 'May-2009' 'Aug-2000' 'May-2001' 'Dec-1985' 'Nov-2001'\n",
      " 'Nov-2003' 'Sep-1983' 'May-2002' 'Jul-1987' 'Apr-1993' 'Dec-1997'\n",
      " 'Sep-2005' 'Oct-2005' 'Dec-1994' 'Jun-1983' 'Jul-1996' 'Mar-2001'\n",
      " 'Mar-2005' 'Apr-2008' 'Mar-1994' 'Dec-1982' 'Jan-2007' 'Aug-2005'\n",
      " 'Nov-2010' 'Nov-1996' 'Sep-2000' 'Dec-1992' 'Apr-1999' 'Oct-1997'\n",
      " 'Sep-1996' 'Nov-1990' 'May-2013' 'Dec-2003' 'Sep-1986' 'Jul-1999'\n",
      " 'Oct-2006' 'Dec-2010' 'Nov-1973' 'Jun-1994' 'Oct-1993' 'Aug-1982'\n",
      " 'Apr-2000' 'Mar-1991' 'Jun-2004' 'Jan-1986' 'Jan-2006' 'Jul-1994'\n",
      " 'Dec-2000' 'Aug-1990' 'Jan-2003' 'Jun-1998' 'Nov-1985' 'Jun-2002'\n",
      " 'Feb-2000' 'Jan-1992' 'Dec-2006' 'May-1992' 'Mar-1986' 'Jul-1998'\n",
      " 'Mar-1999' 'Apr-2004' 'Aug-2012' 'Jan-2008' 'Jul-2000' 'Sep-1984'\n",
      " 'Jan-1962' 'Apr-1989' 'Nov-2004' 'Apr-1998' 'Aug-1996' 'Apr-1995'\n",
      " 'Jan-1998' 'Oct-2002' 'Nov-2005' 'Jun-1989' 'Jun-2003' 'Nov-2007'\n",
      " 'Dec-2008' 'Mar-1996' 'Jan-2004' 'Sep-1994' 'Dec-1999' 'Aug-2006'\n",
      " 'Feb-2003' 'Jan-2009' 'Apr-2001' 'Oct-1976' 'Feb-1997' 'Mar-1990'\n",
      " 'Jun-1996' 'May-1998' 'Mar-2002' 'Jan-2010' 'Nov-2009' 'Feb-2002'\n",
      " 'Oct-1992' 'May-1983' 'Mar-1997' 'Sep-2011' 'Jul-1997' 'Oct-1984'\n",
      " 'Nov-1988' 'Apr-2002' 'Aug-1987' 'Oct-1999' 'May-1996' 'Oct-1998'\n",
      " 'Oct-2001' 'Aug-2010' 'Sep-1990' 'Jan-2002' 'Apr-1992' 'Oct-2007'\n",
      " 'Jun-2008' 'Jan-1991' 'Jul-1983' 'Mar-2007' 'Jun-1992' 'Nov-2000'\n",
      " 'Feb-1995' 'Jan-1999' 'Sep-2009' 'Apr-1990' 'Mar-1985' 'Sep-1980'\n",
      " 'Jul-2002' 'May-2003' 'Mar-2006' 'Sep-1989' 'Jun-2009' 'May-1995'\n",
      " 'Jan-1959' 'Mar-2003' 'Jan-2005' 'Nov-1995' 'Jun-2006' 'Feb-1983'\n",
      " 'Jul-2011' 'Jun-1995' 'Feb-1991' 'Feb-1989' 'Feb-1992' 'Jul-1993'\n",
      " 'Mar-1988' 'Feb-2007' 'Mar-2010' 'Jan-1981' 'Apr-2009' 'Jan-1997'\n",
      " 'Apr-1985' 'Jun-1976' 'Jun-1991' 'Oct-1996' 'Mar-1983' 'Mar-1998'\n",
      " 'Nov-1997' 'Oct-2008' 'May-1973' 'Oct-1977' 'Feb-1998' 'Jul-1985'\n",
      " 'Mar-2000' 'Aug-1995' 'Aug-2011' 'Dec-1995' 'Dec-1988' 'Jan-1989'\n",
      " 'Nov-1989' 'Jan-1988' 'Jun-2013' 'Apr-2010' 'Aug-1975' 'Dec-1998'\n",
      " 'Nov-1999' 'May-2005' 'Mar-1981' 'Aug-1983' 'Feb-2009' 'Nov-2013'\n",
      " 'Jun-1967' 'Sep-2012' 'Aug-2013' 'Aug-1992' 'Feb-1982' 'May-1990'\n",
      " 'Sep-1991' 'Nov-1994' 'Dec-1971' 'Oct-2011' 'Jul-2009' 'Feb-1977'\n",
      " 'Feb-1971' 'Nov-2008' 'Jan-1987' 'Jun-2010' 'Dec-1991' 'May-1974'\n",
      " 'Mar-1995' 'Apr-1986' 'Jun-2000' 'Jan-2011' 'Sep-2010' 'Sep-1992'\n",
      " 'Feb-2010' 'Sep-2013' 'May-2008' 'Jan-1995' 'May-2011' 'Mar-1980'\n",
      " 'May-1991' 'Mar-2008' 'Sep-1987' 'Sep-1977' 'Feb-1996' 'Jun-1993'\n",
      " 'May-2010' 'Oct-1973' 'Jul-1990' 'Jul-2013' 'Jul-1974' 'Feb-1999'\n",
      " 'Jul-2010' 'Sep-1999' 'Aug-1993' 'Jul-1989' 'Jan-1984' 'May-1986'\n",
      " 'Jul-1978' 'May-2000' 'Nov-1984' 'May-1979' 'Jan-2000' 'Jan-1993'\n",
      " 'Apr-2011' 'Apr-1983' 'Jun-2014' 'Oct-2009' 'Apr-1984' 'Feb-1987'\n",
      " 'Dec-2012' 'Jul-1981' 'Jan-1990' 'Dec-1983' 'May-1981' 'Dec-2009'\n",
      " 'Nov-1993' 'Nov-1986' 'Jul-1984' 'Mar-1975' 'Dec-2007' 'Jan-1994'\n",
      " 'Jul-1992' 'Apr-2014' 'May-1984' 'Mar-1982' 'Feb-1990' 'Feb-1970'\n",
      " 'Nov-1981' 'Jun-1977' 'Nov-1982' 'Dec-1990' 'Jun-1990' 'Apr-2013'\n",
      " 'Jul-1986' 'Oct-1979' 'Jun-1985' 'Apr-1994' 'Jun-1984' 'Feb-1988'\n",
      " 'Aug-1988' 'Mar-1992' 'Feb-1984' 'Dec-1978' 'Sep-1979' 'Jan-1974'\n",
      " 'Sep-1971' 'Oct-1987' 'Dec-2011' 'Jan-2013' 'Apr-1991' 'Mar-2011'\n",
      " 'Oct-1986' 'Aug-1989' 'Dec-1979' 'Jul-2014' 'Mar-1987' 'Sep-1988'\n",
      " 'Feb-2014' 'Apr-1988' 'Oct-1991' 'Feb-2011' 'Jul-1976' 'Jul-1979'\n",
      " 'Mar-2013' 'Jul-1982' 'Apr-1970' 'Dec-1987' 'Jan-1975' 'Feb-1986'\n",
      " 'Apr-1969' 'May-1993' 'Jun-1981' 'Oct-1985' 'Mar-2009' 'Jun-1988'\n",
      " 'Apr-1982' 'Feb-2012' 'Jul-2012' 'Dec-2013' 'Oct-1988' 'Aug-1984'\n",
      " 'Mar-1989' 'Apr-2012' 'Jan-1983' 'Mar-1963' 'May-1988' 'Jan-1970'\n",
      " 'Sep-1978' 'Nov-1991' 'Dec-1986' 'Apr-1966' 'Aug-1986' 'Sep-1985'\n",
      " 'Mar-1979' 'Sep-1969' 'Nov-1987' 'May-1985' 'Jun-1975' 'Oct-1980'\n",
      " 'May-2014' 'Mar-1976' 'Jan-1982' 'Jul-1971' 'May-1972' 'Apr-1987'\n",
      " 'Aug-1981' 'Apr-1963' 'Oct-1983' 'Jan-1985' 'Feb-1985' 'Jul-1988'\n",
      " 'Feb-1973' 'Nov-2012' 'Oct-2010' 'Dec-1968' 'Dec-1965' 'Dec-1981'\n",
      " 'Jun-1987' 'Apr-1978' 'Dec-1980' 'Apr-1981' 'May-1971' 'May-1976'\n",
      " 'Jul-1977' 'Mar-2014' 'Nov-1980' 'Dec-1984' 'Nov-1983' 'Jun-1986'\n",
      " 'Oct-1982' 'Feb-2013' 'Oct-1981' 'Nov-1972' 'Jun-1982' 'Jan-1976'\n",
      " 'Apr-1973' 'Apr-1974' 'Jul-1991' 'Apr-1968' 'Dec-1974' 'Jan-1963'\n",
      " 'Dec-1972' 'Mar-1957' 'Mar-1984' 'Sep-1965' 'Mar-1970' 'Jul-1970'\n",
      " 'Dec-1977' 'Apr-1979' 'Aug-1980' 'Jan-1961' 'Jan-1969' 'Dec-1967'\n",
      " 'Mar-1968' 'Sep-1982' 'Aug-1978' 'Sep-1973' 'Jun-1971' 'May-1978'\n",
      " 'Jun-1979' 'Nov-1965' 'Dec-1975' 'Sep-1975' 'Nov-1978' 'Sep-1976'\n",
      " 'Jun-1973' 'May-1977' 'May-1975' 'Dec-1966' 'Feb-1978' 'Apr-1977'\n",
      " 'Jan-1980' 'Aug-1979' 'Jan-1968' 'Aug-1972' 'Apr-1975' 'May-1980'\n",
      " 'Aug-1966' 'Jan-2014' 'Jul-1980' 'Mar-1973' 'Jul-1966' 'Apr-1976'\n",
      " 'Aug-1977' 'Oct-1978' 'Apr-1972' 'Feb-1969' 'Aug-1970' 'Oct-1975'\n",
      " 'Dec-1976' 'Jan-1978' 'Nov-1970' 'Nov-1969' 'Feb-1976' 'Jun-1978'\n",
      " 'May-1961' 'Jan-1977' 'Oct-1974' 'Jan-1964' 'Mar-1974' 'Jun-1972'\n",
      " 'Feb-1975' 'Feb-1980' 'Jan-1973' 'Sep-1981' 'Sep-1964' 'Jan-1971'\n",
      " 'Aug-1974' 'Oct-1969' 'Nov-1977' 'Apr-1980' 'Jan-1965' 'Jan-1972'\n",
      " 'Sep-1967' 'Mar-1977' 'Nov-1968' 'Jul-1973' 'Nov-1971' 'Mar-1972'\n",
      " 'May-1966' 'Aug-1971' 'Apr-1971' 'Oct-1972' 'Sep-1974' 'Jul-1975'\n",
      " 'Nov-1975' 'Feb-1979' 'Nov-1976' 'Feb-1972' 'Sep-1970' 'Jun-1970'\n",
      " 'Jul-1961' 'Jan-1979' 'Mar-1965' 'Aug-1973' 'Apr-1964' 'Oct-1961'\n",
      " 'Nov-1979' 'May-1969' 'Aug-2014' 'Aug-1963' 'Jun-1980' 'Oct-1967'\n",
      " 'Dec-1969' 'Mar-1969' 'Jul-1972' 'Apr-1934' 'Oct-1971' 'Oct-1970'\n",
      " 'Aug-1976' 'Jul-1959' 'Sep-1972' 'Jan-1960' 'Mar-1960' 'Jun-1974'\n",
      " 'Oct-1964' 'Jan-1956' 'Mar-1967' 'Jul-1968' 'Jul-1969' 'May-1967'\n",
      " 'Aug-1967' 'Jun-1969' 'Feb-1974' 'Mar-1966' 'Jan-1967' 'Dec-1973'\n",
      " 'Feb-1966' 'Jan-1966' 'Mar-1971' 'Nov-1964' 'Oct-1966' 'Aug-1968'\n",
      " 'May-1968' 'Aug-1969' 'Jun-1961' 'Feb-1963' 'Nov-1966' 'Jun-1962'\n",
      " 'Nov-1974' 'Dec-1964' 'Feb-1965' 'Jan-1953' 'May-1970' 'Nov-1957'\n",
      " 'Oct-1968' 'Jun-1968' 'Dec-1970' 'Sep-1966' 'Jul-1967' 'Feb-1964'\n",
      " 'Jun-1964' 'Aug-1960' 'Jan-1950' 'Jun-1966' 'Apr-1967' 'Apr-1965'\n",
      " 'Jul-1965' 'Feb-1962' 'Jul-1964' 'May-1964' 'Jan-1958' 'Dec-1960'\n",
      " 'Feb-1967' 'Sep-1968' 'Jan-1957' 'Dec-1962' 'Feb-1968' 'Aug-1965'\n",
      " 'Jun-1965' 'Feb-1959' 'Nov-1967' 'Oct-1965' 'Apr-1961' 'Mar-1964'\n",
      " 'Oct-1958' 'Sep-1961' 'Jul-1962' 'Aug-1958' 'Mar-1962' 'Nov-1961'\n",
      " 'Aug-1964' 'Jun-1960' 'Oct-1962' 'May-1965' 'Jan-1955' 'Jun-1958'\n",
      " 'Jun-1959' 'Nov-1963' 'Apr-1960' 'Jan-1952' 'Aug-1962' 'Jul-1963'\n",
      " 'Dec-1956' 'Mar-1955' 'Jun-1963' 'Oct-1963' 'Mar-1959' 'Nov-1959'\n",
      " 'May-1963' 'Mar-1961' 'May-1959' 'Jul-1951' 'Dec-1946' 'Jul-1960'\n",
      " 'Jan-1951' 'Mar-1933' 'Dec-1959' 'Oct-1960' 'Aug-1959' 'Feb-1945'\n",
      " 'Aug-1941' 'Jun-1957' 'Feb-1960' 'Nov-1952' 'Sep-1963' 'Feb-1934'\n",
      " 'Sep-1962' 'Jul-1958' 'Feb-1961' 'May-1958' 'Aug-1957' 'May-1960'\n",
      " 'Nov-1962' 'Apr-1962' 'Apr-1958' 'Dec-1958' 'Dec-1963' 'Aug-1961']\n",
      "\n",
      "initial_list_status\n",
      "['w' 'f']\n",
      "\n",
      "last_pymnt_d\n",
      "['Dec-2017' 'Jul-2017' 'Nov-2017' 'Jun-2017' 'Sep-2017' 'Oct-2016'\n",
      " 'Sep-2016' 'Aug-2017' 'May-2017' 'Oct-2017' 'Mar-2017' 'Jan-2017' nan\n",
      " 'Apr-2017' 'Aug-2016' 'Mar-2016' 'May-2016' 'Apr-2016' 'Jul-2016'\n",
      " 'Nov-2016' 'Feb-2016' 'Dec-2016' 'Feb-2017' 'Jun-2016' 'Jan-2016']\n",
      "\n",
      "next_pymnt_d\n",
      "['Jan-2018' nan 'Dec-2017' 'Feb-2018']\n",
      "\n",
      "last_credit_pull_d\n",
      "['Dec-2017' 'Nov-2017' 'Jul-2017' 'Oct-2017' 'Jun-2017' 'Oct-2016'\n",
      " 'Mar-2017' 'Sep-2017' 'Aug-2017' 'May-2017' 'Feb-2017' 'Mar-2016'\n",
      " 'Apr-2017' 'Nov-2016' 'Apr-2016' 'Aug-2016' 'Dec-2016' 'Jul-2016'\n",
      " 'Jan-2017' 'Jun-2016' 'Feb-2016' 'Sep-2016' 'Jan-2016' 'May-2016'\n",
      " 'Dec-2015' nan]\n",
      "\n",
      "application_type\n",
      "['Individual' 'Joint App']\n",
      "\n"
     ]
    }
   ],
   "source": [
    "# Pada fungsi perulangan 'for' berikut, akan dimunculkan kolom-kolom yang bertipe 'object' dan 'bool'\n",
    "\n",
    "for col in X_train.select_dtypes(include = ['object','bool']).columns :\n",
    "    print(col)\n",
    "    print(X_train[col].unique())\n",
    "    print()"
   ]
  },
  {
   "cell_type": "code",
   "execution_count": 21,
   "id": "ac446385",
   "metadata": {},
   "outputs": [],
   "source": [
    "# Dibentuk variabel 'col_need_to_clean' untuk membentuk \n",
    "# data-data yang dapat diukur dengan mengubahnya menjadi data numerik\n",
    "\n",
    "col_need_to_clean = ['term', 'emp_length', 'issue_d', 'earliest_cr_line', 'last_pymnt_d', 'next_pymnt_d'\n",
    "                    , 'last_credit_pull_d']"
   ]
  },
  {
   "cell_type": "code",
   "execution_count": 22,
   "id": "b89eb3b5",
   "metadata": {},
   "outputs": [
    {
     "data": {
      "text/plain": [
       "array(['36 months', '60 months'], dtype=object)"
      ]
     },
     "execution_count": 22,
     "metadata": {},
     "output_type": "execute_result"
    }
   ],
   "source": [
    "# Pembersihan pertama, dimulai dengan kolom 'term'\n",
    "\n",
    "X_train['term'].unique()"
   ]
  },
  {
   "cell_type": "code",
   "execution_count": 23,
   "id": "1aa02671",
   "metadata": {},
   "outputs": [],
   "source": [
    "# Kolom 'term' akan dirubah kedalam bentuk numerik dan akan dihilangkan stringnya\n",
    "\n",
    "X_train['term'] = pd.to_numeric(X_train['term'].str.replace(' months', ''))"
   ]
  },
  {
   "cell_type": "code",
   "execution_count": 24,
   "id": "caaee9ff",
   "metadata": {},
   "outputs": [
    {
     "data": {
      "text/plain": [
       "147577    36\n",
       "505776    36\n",
       "412425    36\n",
       "618730    36\n",
       "111143    36\n",
       "          ..\n",
       "150426    36\n",
       "195135    36\n",
       "182511    36\n",
       "82596     36\n",
       "165904    36\n",
       "Name: term, Length: 607470, dtype: int64"
      ]
     },
     "execution_count": 24,
     "metadata": {},
     "output_type": "execute_result"
    }
   ],
   "source": [
    "# Dapat dilihat bahwa kolom 'term' sudah dalam bentuk numerik\n",
    "X_train['term']"
   ]
  },
  {
   "cell_type": "code",
   "execution_count": 25,
   "id": "74a048c1",
   "metadata": {},
   "outputs": [
    {
     "data": {
      "text/plain": [
       "array(['4 years', '10+ years', '< 1 year', '5 years', '6 years',\n",
       "       '7 years', '2 years', '3 years', '8 years', '1 year', nan,\n",
       "       '9 years'], dtype=object)"
      ]
     },
     "execution_count": 25,
     "metadata": {},
     "output_type": "execute_result"
    }
   ],
   "source": [
    "# Pembersihan kedua, dilanjutkan dengan kolom 'emp_length'\n",
    "\n",
    "X_train['emp_length'].unique()"
   ]
  },
  {
   "cell_type": "code",
   "execution_count": 26,
   "id": "b26a60c9",
   "metadata": {},
   "outputs": [
    {
     "name": "stderr",
     "output_type": "stream",
     "text": [
      "C:\\Users\\santi\\AppData\\Local\\Temp\\ipykernel_2908\\4122692218.py:3: FutureWarning: The default value of regex will change from True to False in a future version.\n",
      "  X_train['emp_length'] = X_train['emp_length'].str.replace('\\+ years', '')\n"
     ]
    }
   ],
   "source": [
    "# Kolom 'emp_length' akan dirubah kedalam bentuk numerik dan akan dihilangkan stringnya\n",
    "\n",
    "X_train['emp_length'] = X_train['emp_length'].str.replace('\\+ years', '')\n",
    "X_train['emp_length'] = X_train['emp_length'].str.replace(' years', '')\n",
    "X_train['emp_length'] = X_train['emp_length'].str.replace('< 1 year', str(0))\n",
    "X_train['emp_length'] = X_train['emp_length'].str.replace(' year', '')\n",
    "\n",
    "X_train['emp_length'].fillna(value = 0, inplace=True)"
   ]
  },
  {
   "cell_type": "code",
   "execution_count": 27,
   "id": "b27068a4",
   "metadata": {},
   "outputs": [],
   "source": [
    "X_train['emp_length'] = pd.to_numeric(X_train['emp_length'])"
   ]
  },
  {
   "cell_type": "code",
   "execution_count": 28,
   "id": "8b2e11d1",
   "metadata": {},
   "outputs": [
    {
     "data": {
      "text/plain": [
       "147577     4\n",
       "505776    10\n",
       "412425     0\n",
       "618730     5\n",
       "111143     6\n",
       "          ..\n",
       "150426     8\n",
       "195135     0\n",
       "182511    10\n",
       "82596      3\n",
       "165904     1\n",
       "Name: emp_length, Length: 607470, dtype: int64"
      ]
     },
     "execution_count": 28,
     "metadata": {},
     "output_type": "execute_result"
    }
   ],
   "source": [
    "# # Dapat dilihat bahwa kolom 'emp_length' sudah dalam bentuk numerik\n",
    "\n",
    "X_train['emp_length']"
   ]
  },
  {
   "cell_type": "code",
   "execution_count": 29,
   "id": "989e9245",
   "metadata": {},
   "outputs": [
    {
     "data": {
      "text/html": [
       "<div>\n",
       "<style scoped>\n",
       "    .dataframe tbody tr th:only-of-type {\n",
       "        vertical-align: middle;\n",
       "    }\n",
       "\n",
       "    .dataframe tbody tr th {\n",
       "        vertical-align: top;\n",
       "    }\n",
       "\n",
       "    .dataframe thead th {\n",
       "        text-align: right;\n",
       "    }\n",
       "</style>\n",
       "<table border=\"1\" class=\"dataframe\">\n",
       "  <thead>\n",
       "    <tr style=\"text-align: right;\">\n",
       "      <th></th>\n",
       "      <th>issue_d</th>\n",
       "      <th>earliest_cr_line</th>\n",
       "      <th>last_pymnt_d</th>\n",
       "      <th>next_pymnt_d</th>\n",
       "      <th>last_credit_pull_d</th>\n",
       "    </tr>\n",
       "  </thead>\n",
       "  <tbody>\n",
       "    <tr>\n",
       "      <th>147577</th>\n",
       "      <td>Feb-2017</td>\n",
       "      <td>Aug-1994</td>\n",
       "      <td>Dec-2017</td>\n",
       "      <td>Jan-2018</td>\n",
       "      <td>Dec-2017</td>\n",
       "    </tr>\n",
       "    <tr>\n",
       "      <th>505776</th>\n",
       "      <td>Apr-2016</td>\n",
       "      <td>Sep-2001</td>\n",
       "      <td>Jul-2017</td>\n",
       "      <td>NaN</td>\n",
       "      <td>Nov-2017</td>\n",
       "    </tr>\n",
       "    <tr>\n",
       "      <th>412425</th>\n",
       "      <td>Jul-2017</td>\n",
       "      <td>May-1999</td>\n",
       "      <td>Dec-2017</td>\n",
       "      <td>Jan-2018</td>\n",
       "      <td>Dec-2017</td>\n",
       "    </tr>\n",
       "    <tr>\n",
       "      <th>618730</th>\n",
       "      <td>Oct-2016</td>\n",
       "      <td>Jun-2005</td>\n",
       "      <td>Dec-2017</td>\n",
       "      <td>Jan-2018</td>\n",
       "      <td>Dec-2017</td>\n",
       "    </tr>\n",
       "    <tr>\n",
       "      <th>111143</th>\n",
       "      <td>Mar-2017</td>\n",
       "      <td>Jan-2012</td>\n",
       "      <td>Dec-2017</td>\n",
       "      <td>Jan-2018</td>\n",
       "      <td>Dec-2017</td>\n",
       "    </tr>\n",
       "    <tr>\n",
       "      <th>...</th>\n",
       "      <td>...</td>\n",
       "      <td>...</td>\n",
       "      <td>...</td>\n",
       "      <td>...</td>\n",
       "      <td>...</td>\n",
       "    </tr>\n",
       "    <tr>\n",
       "      <th>150426</th>\n",
       "      <td>Feb-2017</td>\n",
       "      <td>Nov-1998</td>\n",
       "      <td>Nov-2017</td>\n",
       "      <td>NaN</td>\n",
       "      <td>Dec-2017</td>\n",
       "    </tr>\n",
       "    <tr>\n",
       "      <th>195135</th>\n",
       "      <td>Jan-2017</td>\n",
       "      <td>Sep-1993</td>\n",
       "      <td>Dec-2017</td>\n",
       "      <td>Jan-2018</td>\n",
       "      <td>Dec-2017</td>\n",
       "    </tr>\n",
       "    <tr>\n",
       "      <th>182511</th>\n",
       "      <td>Jan-2017</td>\n",
       "      <td>Mar-1988</td>\n",
       "      <td>Dec-2017</td>\n",
       "      <td>Jan-2018</td>\n",
       "      <td>Dec-2017</td>\n",
       "    </tr>\n",
       "    <tr>\n",
       "      <th>82596</th>\n",
       "      <td>Apr-2017</td>\n",
       "      <td>Jan-2003</td>\n",
       "      <td>Dec-2017</td>\n",
       "      <td>Jan-2018</td>\n",
       "      <td>Dec-2017</td>\n",
       "    </tr>\n",
       "    <tr>\n",
       "      <th>165904</th>\n",
       "      <td>Feb-2017</td>\n",
       "      <td>Nov-2000</td>\n",
       "      <td>Dec-2017</td>\n",
       "      <td>Jan-2018</td>\n",
       "      <td>Dec-2017</td>\n",
       "    </tr>\n",
       "  </tbody>\n",
       "</table>\n",
       "<p>607470 rows × 5 columns</p>\n",
       "</div>"
      ],
      "text/plain": [
       "         issue_d earliest_cr_line last_pymnt_d next_pymnt_d last_credit_pull_d\n",
       "147577  Feb-2017         Aug-1994     Dec-2017     Jan-2018           Dec-2017\n",
       "505776  Apr-2016         Sep-2001     Jul-2017          NaN           Nov-2017\n",
       "412425  Jul-2017         May-1999     Dec-2017     Jan-2018           Dec-2017\n",
       "618730  Oct-2016         Jun-2005     Dec-2017     Jan-2018           Dec-2017\n",
       "111143  Mar-2017         Jan-2012     Dec-2017     Jan-2018           Dec-2017\n",
       "...          ...              ...          ...          ...                ...\n",
       "150426  Feb-2017         Nov-1998     Nov-2017          NaN           Dec-2017\n",
       "195135  Jan-2017         Sep-1993     Dec-2017     Jan-2018           Dec-2017\n",
       "182511  Jan-2017         Mar-1988     Dec-2017     Jan-2018           Dec-2017\n",
       "82596   Apr-2017         Jan-2003     Dec-2017     Jan-2018           Dec-2017\n",
       "165904  Feb-2017         Nov-2000     Dec-2017     Jan-2018           Dec-2017\n",
       "\n",
       "[607470 rows x 5 columns]"
      ]
     },
     "execution_count": 29,
     "metadata": {},
     "output_type": "execute_result"
    }
   ],
   "source": [
    "# Berikutnya, akan dibentuk variabel dengan time data timedate\n",
    "\n",
    "col_date = ['issue_d', 'earliest_cr_line', 'last_pymnt_d', 'next_pymnt_d',\n",
    "            'last_credit_pull_d']\n",
    "\n",
    "X_train[col_date]"
   ]
  },
  {
   "cell_type": "code",
   "execution_count": 30,
   "id": "bcc027a2",
   "metadata": {},
   "outputs": [
    {
     "data": {
      "text/plain": [
       "array(['Feb-2017', 'Apr-2016', 'Jul-2017', 'Oct-2016', 'Mar-2017',\n",
       "       'May-2016', 'Mar-2016', 'Aug-2017', 'Jul-2016', 'Jan-2017',\n",
       "       'Sep-2016', 'Aug-2016', 'Nov-2016', 'Dec-2016', 'Jun-2016',\n",
       "       'Sep-2017', 'Feb-2016', 'May-2017', 'Jun-2017', 'Apr-2017',\n",
       "       'Jan-2016'], dtype=object)"
      ]
     },
     "execution_count": 30,
     "metadata": {},
     "output_type": "execute_result"
    }
   ],
   "source": [
    "X_train['issue_d'].unique()"
   ]
  },
  {
   "cell_type": "code",
   "execution_count": 31,
   "id": "3c611df6",
   "metadata": {},
   "outputs": [],
   "source": [
    "for col in col_date :\n",
    "    X_train[col] = pd.to_datetime(X_train[col])"
   ]
  },
  {
   "cell_type": "code",
   "execution_count": 32,
   "id": "f6230f89",
   "metadata": {},
   "outputs": [
    {
     "data": {
      "text/html": [
       "<div>\n",
       "<style scoped>\n",
       "    .dataframe tbody tr th:only-of-type {\n",
       "        vertical-align: middle;\n",
       "    }\n",
       "\n",
       "    .dataframe tbody tr th {\n",
       "        vertical-align: top;\n",
       "    }\n",
       "\n",
       "    .dataframe thead th {\n",
       "        text-align: right;\n",
       "    }\n",
       "</style>\n",
       "<table border=\"1\" class=\"dataframe\">\n",
       "  <thead>\n",
       "    <tr style=\"text-align: right;\">\n",
       "      <th></th>\n",
       "      <th>issue_d</th>\n",
       "      <th>earliest_cr_line</th>\n",
       "      <th>last_pymnt_d</th>\n",
       "      <th>next_pymnt_d</th>\n",
       "      <th>last_credit_pull_d</th>\n",
       "    </tr>\n",
       "  </thead>\n",
       "  <tbody>\n",
       "    <tr>\n",
       "      <th>147577</th>\n",
       "      <td>2017-02-01</td>\n",
       "      <td>1994-08-01</td>\n",
       "      <td>2017-12-01</td>\n",
       "      <td>2018-01-01</td>\n",
       "      <td>2017-12-01</td>\n",
       "    </tr>\n",
       "    <tr>\n",
       "      <th>505776</th>\n",
       "      <td>2016-04-01</td>\n",
       "      <td>2001-09-01</td>\n",
       "      <td>2017-07-01</td>\n",
       "      <td>NaT</td>\n",
       "      <td>2017-11-01</td>\n",
       "    </tr>\n",
       "    <tr>\n",
       "      <th>412425</th>\n",
       "      <td>2017-07-01</td>\n",
       "      <td>1999-05-01</td>\n",
       "      <td>2017-12-01</td>\n",
       "      <td>2018-01-01</td>\n",
       "      <td>2017-12-01</td>\n",
       "    </tr>\n",
       "    <tr>\n",
       "      <th>618730</th>\n",
       "      <td>2016-10-01</td>\n",
       "      <td>2005-06-01</td>\n",
       "      <td>2017-12-01</td>\n",
       "      <td>2018-01-01</td>\n",
       "      <td>2017-12-01</td>\n",
       "    </tr>\n",
       "    <tr>\n",
       "      <th>111143</th>\n",
       "      <td>2017-03-01</td>\n",
       "      <td>2012-01-01</td>\n",
       "      <td>2017-12-01</td>\n",
       "      <td>2018-01-01</td>\n",
       "      <td>2017-12-01</td>\n",
       "    </tr>\n",
       "    <tr>\n",
       "      <th>...</th>\n",
       "      <td>...</td>\n",
       "      <td>...</td>\n",
       "      <td>...</td>\n",
       "      <td>...</td>\n",
       "      <td>...</td>\n",
       "    </tr>\n",
       "    <tr>\n",
       "      <th>150426</th>\n",
       "      <td>2017-02-01</td>\n",
       "      <td>1998-11-01</td>\n",
       "      <td>2017-11-01</td>\n",
       "      <td>NaT</td>\n",
       "      <td>2017-12-01</td>\n",
       "    </tr>\n",
       "    <tr>\n",
       "      <th>195135</th>\n",
       "      <td>2017-01-01</td>\n",
       "      <td>1993-09-01</td>\n",
       "      <td>2017-12-01</td>\n",
       "      <td>2018-01-01</td>\n",
       "      <td>2017-12-01</td>\n",
       "    </tr>\n",
       "    <tr>\n",
       "      <th>182511</th>\n",
       "      <td>2017-01-01</td>\n",
       "      <td>1988-03-01</td>\n",
       "      <td>2017-12-01</td>\n",
       "      <td>2018-01-01</td>\n",
       "      <td>2017-12-01</td>\n",
       "    </tr>\n",
       "    <tr>\n",
       "      <th>82596</th>\n",
       "      <td>2017-04-01</td>\n",
       "      <td>2003-01-01</td>\n",
       "      <td>2017-12-01</td>\n",
       "      <td>2018-01-01</td>\n",
       "      <td>2017-12-01</td>\n",
       "    </tr>\n",
       "    <tr>\n",
       "      <th>165904</th>\n",
       "      <td>2017-02-01</td>\n",
       "      <td>2000-11-01</td>\n",
       "      <td>2017-12-01</td>\n",
       "      <td>2018-01-01</td>\n",
       "      <td>2017-12-01</td>\n",
       "    </tr>\n",
       "  </tbody>\n",
       "</table>\n",
       "<p>607470 rows × 5 columns</p>\n",
       "</div>"
      ],
      "text/plain": [
       "          issue_d earliest_cr_line last_pymnt_d next_pymnt_d  \\\n",
       "147577 2017-02-01       1994-08-01   2017-12-01   2018-01-01   \n",
       "505776 2016-04-01       2001-09-01   2017-07-01          NaT   \n",
       "412425 2017-07-01       1999-05-01   2017-12-01   2018-01-01   \n",
       "618730 2016-10-01       2005-06-01   2017-12-01   2018-01-01   \n",
       "111143 2017-03-01       2012-01-01   2017-12-01   2018-01-01   \n",
       "...           ...              ...          ...          ...   \n",
       "150426 2017-02-01       1998-11-01   2017-11-01          NaT   \n",
       "195135 2017-01-01       1993-09-01   2017-12-01   2018-01-01   \n",
       "182511 2017-01-01       1988-03-01   2017-12-01   2018-01-01   \n",
       "82596  2017-04-01       2003-01-01   2017-12-01   2018-01-01   \n",
       "165904 2017-02-01       2000-11-01   2017-12-01   2018-01-01   \n",
       "\n",
       "       last_credit_pull_d  \n",
       "147577         2017-12-01  \n",
       "505776         2017-11-01  \n",
       "412425         2017-12-01  \n",
       "618730         2017-12-01  \n",
       "111143         2017-12-01  \n",
       "...                   ...  \n",
       "150426         2017-12-01  \n",
       "195135         2017-12-01  \n",
       "182511         2017-12-01  \n",
       "82596          2017-12-01  \n",
       "165904         2017-12-01  \n",
       "\n",
       "[607470 rows x 5 columns]"
      ]
     },
     "execution_count": 32,
     "metadata": {},
     "output_type": "execute_result"
    }
   ],
   "source": [
    "# Dapat dilihat bahwa kolom 'issue_d', 'last_pymnt_d', 'next_pymnt_d', dan 'last_credit_pull_d' sudah bertipe data datetime\n",
    "\n",
    "X_train[col_date]"
   ]
  },
  {
   "cell_type": "code",
   "execution_count": 33,
   "id": "c3c5f7ec",
   "metadata": {},
   "outputs": [
    {
     "name": "stderr",
     "output_type": "stream",
     "text": [
      "C:\\Users\\santi\\AppData\\Local\\Temp\\ipykernel_2908\\2796296270.py:5: FutureWarning: The default value of regex will change from True to False in a future version.\n",
      "  X_test['emp_length'] = X_test['emp_length'].str.replace('\\+ years', '')\n"
     ]
    }
   ],
   "source": [
    "# Selanjutnya, akan dilakukan pembersihan untuk data X_test\n",
    "\n",
    "X_test['term'] = pd.to_numeric(X_test['term'].str.replace(' months', ''))\n",
    "\n",
    "X_test['emp_length'] = X_test['emp_length'].str.replace('\\+ years', '')\n",
    "X_test['emp_length'] = X_test['emp_length'].str.replace(' years', '')\n",
    "X_test['emp_length'] = X_test['emp_length'].str.replace('< 1 year', str(0))\n",
    "X_test['emp_length'] = X_test['emp_length'].str.replace(' year', '')\n",
    "\n",
    "# fillna digunakan untuk mengisi nilai null atau nilai yang kosong pada 'emp_length'\n",
    "\n",
    "X_test['emp_length'].fillna(value = 0, inplace=True)\n",
    "X_test['emp_length'] = pd.to_numeric(X_test['emp_length'])\n",
    "\n",
    "for col in col_date :\n",
    "    X_test[col] = pd.to_datetime(X_test[col])"
   ]
  },
  {
   "cell_type": "code",
   "execution_count": 34,
   "id": "973787da",
   "metadata": {},
   "outputs": [
    {
     "name": "stdout",
     "output_type": "stream",
     "text": [
      "<class 'pandas.core.frame.DataFrame'>\n",
      "Int64Index: 151868 entries, 280647 to 267584\n",
      "Data columns (total 7 columns):\n",
      " #   Column              Non-Null Count   Dtype         \n",
      "---  ------              --------------   -----         \n",
      " 0   term                151868 non-null  int64         \n",
      " 1   emp_length          151868 non-null  int64         \n",
      " 2   issue_d             151868 non-null  datetime64[ns]\n",
      " 3   earliest_cr_line    151868 non-null  datetime64[ns]\n",
      " 4   last_pymnt_d        151655 non-null  datetime64[ns]\n",
      " 5   next_pymnt_d        118276 non-null  datetime64[ns]\n",
      " 6   last_credit_pull_d  151867 non-null  datetime64[ns]\n",
      "dtypes: datetime64[ns](5), int64(2)\n",
      "memory usage: 9.3 MB\n"
     ]
    }
   ],
   "source": [
    "# Berdasarkan pembersihan sebelumnya, dapat dilihat bahwa data 7 kolom diatas sudah bersih dan berbentuk numerik\n",
    "\n",
    "X_test[col_need_to_clean].info()"
   ]
  },
  {
   "cell_type": "markdown",
   "id": "0e29fa2b",
   "metadata": {},
   "source": [
    "# "
   ]
  },
  {
   "cell_type": "markdown",
   "id": "c7921536",
   "metadata": {},
   "source": [
    "# 6. Feature Enginnering"
   ]
  },
  {
   "cell_type": "code",
   "execution_count": 35,
   "id": "bd9530e6",
   "metadata": {},
   "outputs": [
    {
     "data": {
      "text/plain": [
       "((607470, 65), (607470,), (151868, 65), (151868,))"
      ]
     },
     "execution_count": 35,
     "metadata": {},
     "output_type": "execute_result"
    }
   ],
   "source": [
    "# Model awal X_train, X_test, y_train, dan y_test\n",
    "\n",
    "X_train.shape, y_train.shape, X_test.shape, y_test.shape"
   ]
  },
  {
   "cell_type": "code",
   "execution_count": 36,
   "id": "85ec5f2a",
   "metadata": {},
   "outputs": [
    {
     "data": {
      "text/plain": [
       "['term',\n",
       " 'emp_length',\n",
       " 'issue_d',\n",
       " 'earliest_cr_line',\n",
       " 'last_pymnt_d',\n",
       " 'next_pymnt_d',\n",
       " 'last_credit_pull_d']"
      ]
     },
     "execution_count": 36,
     "metadata": {},
     "output_type": "execute_result"
    }
   ],
   "source": [
    "# Berikut adalah data prediktor yang akan dipakai untuk memprediksi variable dependent\n",
    "\n",
    "col_need_to_clean"
   ]
  },
  {
   "cell_type": "code",
   "execution_count": 37,
   "id": "29f25f6c",
   "metadata": {},
   "outputs": [
    {
     "data": {
      "text/html": [
       "<div>\n",
       "<style scoped>\n",
       "    .dataframe tbody tr th:only-of-type {\n",
       "        vertical-align: middle;\n",
       "    }\n",
       "\n",
       "    .dataframe tbody tr th {\n",
       "        vertical-align: top;\n",
       "    }\n",
       "\n",
       "    .dataframe thead th {\n",
       "        text-align: right;\n",
       "    }\n",
       "</style>\n",
       "<table border=\"1\" class=\"dataframe\">\n",
       "  <thead>\n",
       "    <tr style=\"text-align: right;\">\n",
       "      <th></th>\n",
       "      <th>term</th>\n",
       "      <th>emp_length</th>\n",
       "      <th>issue_d</th>\n",
       "      <th>earliest_cr_line</th>\n",
       "      <th>last_pymnt_d</th>\n",
       "      <th>next_pymnt_d</th>\n",
       "      <th>last_credit_pull_d</th>\n",
       "    </tr>\n",
       "  </thead>\n",
       "  <tbody>\n",
       "    <tr>\n",
       "      <th>147577</th>\n",
       "      <td>36</td>\n",
       "      <td>4</td>\n",
       "      <td>2017-02-01</td>\n",
       "      <td>1994-08-01</td>\n",
       "      <td>2017-12-01</td>\n",
       "      <td>2018-01-01</td>\n",
       "      <td>2017-12-01</td>\n",
       "    </tr>\n",
       "    <tr>\n",
       "      <th>505776</th>\n",
       "      <td>36</td>\n",
       "      <td>10</td>\n",
       "      <td>2016-04-01</td>\n",
       "      <td>2001-09-01</td>\n",
       "      <td>2017-07-01</td>\n",
       "      <td>NaT</td>\n",
       "      <td>2017-11-01</td>\n",
       "    </tr>\n",
       "    <tr>\n",
       "      <th>412425</th>\n",
       "      <td>36</td>\n",
       "      <td>0</td>\n",
       "      <td>2017-07-01</td>\n",
       "      <td>1999-05-01</td>\n",
       "      <td>2017-12-01</td>\n",
       "      <td>2018-01-01</td>\n",
       "      <td>2017-12-01</td>\n",
       "    </tr>\n",
       "    <tr>\n",
       "      <th>618730</th>\n",
       "      <td>36</td>\n",
       "      <td>5</td>\n",
       "      <td>2016-10-01</td>\n",
       "      <td>2005-06-01</td>\n",
       "      <td>2017-12-01</td>\n",
       "      <td>2018-01-01</td>\n",
       "      <td>2017-12-01</td>\n",
       "    </tr>\n",
       "    <tr>\n",
       "      <th>111143</th>\n",
       "      <td>36</td>\n",
       "      <td>6</td>\n",
       "      <td>2017-03-01</td>\n",
       "      <td>2012-01-01</td>\n",
       "      <td>2017-12-01</td>\n",
       "      <td>2018-01-01</td>\n",
       "      <td>2017-12-01</td>\n",
       "    </tr>\n",
       "    <tr>\n",
       "      <th>...</th>\n",
       "      <td>...</td>\n",
       "      <td>...</td>\n",
       "      <td>...</td>\n",
       "      <td>...</td>\n",
       "      <td>...</td>\n",
       "      <td>...</td>\n",
       "      <td>...</td>\n",
       "    </tr>\n",
       "    <tr>\n",
       "      <th>150426</th>\n",
       "      <td>36</td>\n",
       "      <td>8</td>\n",
       "      <td>2017-02-01</td>\n",
       "      <td>1998-11-01</td>\n",
       "      <td>2017-11-01</td>\n",
       "      <td>NaT</td>\n",
       "      <td>2017-12-01</td>\n",
       "    </tr>\n",
       "    <tr>\n",
       "      <th>195135</th>\n",
       "      <td>36</td>\n",
       "      <td>0</td>\n",
       "      <td>2017-01-01</td>\n",
       "      <td>1993-09-01</td>\n",
       "      <td>2017-12-01</td>\n",
       "      <td>2018-01-01</td>\n",
       "      <td>2017-12-01</td>\n",
       "    </tr>\n",
       "    <tr>\n",
       "      <th>182511</th>\n",
       "      <td>36</td>\n",
       "      <td>10</td>\n",
       "      <td>2017-01-01</td>\n",
       "      <td>1988-03-01</td>\n",
       "      <td>2017-12-01</td>\n",
       "      <td>2018-01-01</td>\n",
       "      <td>2017-12-01</td>\n",
       "    </tr>\n",
       "    <tr>\n",
       "      <th>82596</th>\n",
       "      <td>36</td>\n",
       "      <td>3</td>\n",
       "      <td>2017-04-01</td>\n",
       "      <td>2003-01-01</td>\n",
       "      <td>2017-12-01</td>\n",
       "      <td>2018-01-01</td>\n",
       "      <td>2017-12-01</td>\n",
       "    </tr>\n",
       "    <tr>\n",
       "      <th>165904</th>\n",
       "      <td>36</td>\n",
       "      <td>1</td>\n",
       "      <td>2017-02-01</td>\n",
       "      <td>2000-11-01</td>\n",
       "      <td>2017-12-01</td>\n",
       "      <td>2018-01-01</td>\n",
       "      <td>2017-12-01</td>\n",
       "    </tr>\n",
       "  </tbody>\n",
       "</table>\n",
       "<p>607470 rows × 7 columns</p>\n",
       "</div>"
      ],
      "text/plain": [
       "        term  emp_length    issue_d earliest_cr_line last_pymnt_d  \\\n",
       "147577    36           4 2017-02-01       1994-08-01   2017-12-01   \n",
       "505776    36          10 2016-04-01       2001-09-01   2017-07-01   \n",
       "412425    36           0 2017-07-01       1999-05-01   2017-12-01   \n",
       "618730    36           5 2016-10-01       2005-06-01   2017-12-01   \n",
       "111143    36           6 2017-03-01       2012-01-01   2017-12-01   \n",
       "...      ...         ...        ...              ...          ...   \n",
       "150426    36           8 2017-02-01       1998-11-01   2017-11-01   \n",
       "195135    36           0 2017-01-01       1993-09-01   2017-12-01   \n",
       "182511    36          10 2017-01-01       1988-03-01   2017-12-01   \n",
       "82596     36           3 2017-04-01       2003-01-01   2017-12-01   \n",
       "165904    36           1 2017-02-01       2000-11-01   2017-12-01   \n",
       "\n",
       "       next_pymnt_d last_credit_pull_d  \n",
       "147577   2018-01-01         2017-12-01  \n",
       "505776          NaT         2017-11-01  \n",
       "412425   2018-01-01         2017-12-01  \n",
       "618730   2018-01-01         2017-12-01  \n",
       "111143   2018-01-01         2017-12-01  \n",
       "...             ...                ...  \n",
       "150426          NaT         2017-12-01  \n",
       "195135   2018-01-01         2017-12-01  \n",
       "182511   2018-01-01         2017-12-01  \n",
       "82596    2018-01-01         2017-12-01  \n",
       "165904   2018-01-01         2017-12-01  \n",
       "\n",
       "[607470 rows x 7 columns]"
      ]
     },
     "execution_count": 37,
     "metadata": {},
     "output_type": "execute_result"
    }
   ],
   "source": [
    "X_train[col_need_to_clean]\n",
    "\n",
    "# Berdasarkan data ini, kolom 'next_pymnt_d' akan tidak terlalu berpengaruh untuk memprediksi \n",
    "# karena pembayaran berikut nya akan berubah-ubah dan tergantung dari peminjam\n",
    "\n",
    "# Sehingga, kolom 'next_pymnt_d' akan dihapus"
   ]
  },
  {
   "cell_type": "code",
   "execution_count": 38,
   "id": "855a0b31",
   "metadata": {},
   "outputs": [],
   "source": [
    "X_train = X_train[col_need_to_clean]\n",
    "X_test = X_test[col_need_to_clean]\n",
    "\n",
    "del X_train['next_pymnt_d']\n",
    "del X_test['next_pymnt_d']"
   ]
  },
  {
   "cell_type": "code",
   "execution_count": 39,
   "id": "6ebf40b8",
   "metadata": {},
   "outputs": [
    {
     "data": {
      "text/plain": [
       "((607470, 6), (151868, 6))"
      ]
     },
     "execution_count": 39,
     "metadata": {},
     "output_type": "execute_result"
    }
   ],
   "source": [
    "# Dapat dilihat bahwa kolom 'next_pymnt_d' sudah dihapus\n",
    "\n",
    "X_train.shape, X_test.shape"
   ]
  },
  {
   "cell_type": "code",
   "execution_count": 40,
   "id": "4c0e1bd9",
   "metadata": {},
   "outputs": [
    {
     "data": {
      "text/plain": [
       "'2024-02-04'"
      ]
     },
     "execution_count": 40,
     "metadata": {},
     "output_type": "execute_result"
    }
   ],
   "source": [
    "# Lalu, diperlukan import tanggal dari library 'datetime'\n",
    "\n",
    "from datetime import date\n",
    "\n",
    "# Berikut adalah tanggal terkini dan susunannya berdasarkan Tahun, Bulan, dan Hari\n",
    "\n",
    "date.today().strftime('%Y-%m-%d')"
   ]
  },
  {
   "cell_type": "code",
   "execution_count": 41,
   "id": "eee3e338",
   "metadata": {},
   "outputs": [
    {
     "data": {
      "text/plain": [
       "Timedelta('2559 days 00:00:00')"
      ]
     },
     "execution_count": 41,
     "metadata": {},
     "output_type": "execute_result"
    }
   ],
   "source": [
    "# Berikut adalah banyaknya hari yang ditunjukkan jika pinjaman diambil dari 01 Februari 2017 dan berjalan sampai hari ini\n",
    "\n",
    "pd.to_datetime(date.today().strftime('%Y-%m-%d')) - pd.to_datetime('2017-02-01')"
   ]
  },
  {
   "cell_type": "code",
   "execution_count": 42,
   "id": "53499f75",
   "metadata": {},
   "outputs": [
    {
     "data": {
      "text/html": [
       "<div>\n",
       "<style scoped>\n",
       "    .dataframe tbody tr th:only-of-type {\n",
       "        vertical-align: middle;\n",
       "    }\n",
       "\n",
       "    .dataframe tbody tr th {\n",
       "        vertical-align: top;\n",
       "    }\n",
       "\n",
       "    .dataframe thead th {\n",
       "        text-align: right;\n",
       "    }\n",
       "</style>\n",
       "<table border=\"1\" class=\"dataframe\">\n",
       "  <thead>\n",
       "    <tr style=\"text-align: right;\">\n",
       "      <th></th>\n",
       "      <th>term</th>\n",
       "      <th>emp_length</th>\n",
       "      <th>issue_d</th>\n",
       "      <th>earliest_cr_line</th>\n",
       "      <th>last_pymnt_d</th>\n",
       "      <th>last_credit_pull_d</th>\n",
       "    </tr>\n",
       "  </thead>\n",
       "  <tbody>\n",
       "    <tr>\n",
       "      <th>147577</th>\n",
       "      <td>36</td>\n",
       "      <td>4</td>\n",
       "      <td>2017-02-01</td>\n",
       "      <td>1994-08-01</td>\n",
       "      <td>2017-12-01</td>\n",
       "      <td>2017-12-01</td>\n",
       "    </tr>\n",
       "    <tr>\n",
       "      <th>505776</th>\n",
       "      <td>36</td>\n",
       "      <td>10</td>\n",
       "      <td>2016-04-01</td>\n",
       "      <td>2001-09-01</td>\n",
       "      <td>2017-07-01</td>\n",
       "      <td>2017-11-01</td>\n",
       "    </tr>\n",
       "    <tr>\n",
       "      <th>412425</th>\n",
       "      <td>36</td>\n",
       "      <td>0</td>\n",
       "      <td>2017-07-01</td>\n",
       "      <td>1999-05-01</td>\n",
       "      <td>2017-12-01</td>\n",
       "      <td>2017-12-01</td>\n",
       "    </tr>\n",
       "    <tr>\n",
       "      <th>618730</th>\n",
       "      <td>36</td>\n",
       "      <td>5</td>\n",
       "      <td>2016-10-01</td>\n",
       "      <td>2005-06-01</td>\n",
       "      <td>2017-12-01</td>\n",
       "      <td>2017-12-01</td>\n",
       "    </tr>\n",
       "    <tr>\n",
       "      <th>111143</th>\n",
       "      <td>36</td>\n",
       "      <td>6</td>\n",
       "      <td>2017-03-01</td>\n",
       "      <td>2012-01-01</td>\n",
       "      <td>2017-12-01</td>\n",
       "      <td>2017-12-01</td>\n",
       "    </tr>\n",
       "    <tr>\n",
       "      <th>...</th>\n",
       "      <td>...</td>\n",
       "      <td>...</td>\n",
       "      <td>...</td>\n",
       "      <td>...</td>\n",
       "      <td>...</td>\n",
       "      <td>...</td>\n",
       "    </tr>\n",
       "    <tr>\n",
       "      <th>150426</th>\n",
       "      <td>36</td>\n",
       "      <td>8</td>\n",
       "      <td>2017-02-01</td>\n",
       "      <td>1998-11-01</td>\n",
       "      <td>2017-11-01</td>\n",
       "      <td>2017-12-01</td>\n",
       "    </tr>\n",
       "    <tr>\n",
       "      <th>195135</th>\n",
       "      <td>36</td>\n",
       "      <td>0</td>\n",
       "      <td>2017-01-01</td>\n",
       "      <td>1993-09-01</td>\n",
       "      <td>2017-12-01</td>\n",
       "      <td>2017-12-01</td>\n",
       "    </tr>\n",
       "    <tr>\n",
       "      <th>182511</th>\n",
       "      <td>36</td>\n",
       "      <td>10</td>\n",
       "      <td>2017-01-01</td>\n",
       "      <td>1988-03-01</td>\n",
       "      <td>2017-12-01</td>\n",
       "      <td>2017-12-01</td>\n",
       "    </tr>\n",
       "    <tr>\n",
       "      <th>82596</th>\n",
       "      <td>36</td>\n",
       "      <td>3</td>\n",
       "      <td>2017-04-01</td>\n",
       "      <td>2003-01-01</td>\n",
       "      <td>2017-12-01</td>\n",
       "      <td>2017-12-01</td>\n",
       "    </tr>\n",
       "    <tr>\n",
       "      <th>165904</th>\n",
       "      <td>36</td>\n",
       "      <td>1</td>\n",
       "      <td>2017-02-01</td>\n",
       "      <td>2000-11-01</td>\n",
       "      <td>2017-12-01</td>\n",
       "      <td>2017-12-01</td>\n",
       "    </tr>\n",
       "  </tbody>\n",
       "</table>\n",
       "<p>607470 rows × 6 columns</p>\n",
       "</div>"
      ],
      "text/plain": [
       "        term  emp_length    issue_d earliest_cr_line last_pymnt_d  \\\n",
       "147577    36           4 2017-02-01       1994-08-01   2017-12-01   \n",
       "505776    36          10 2016-04-01       2001-09-01   2017-07-01   \n",
       "412425    36           0 2017-07-01       1999-05-01   2017-12-01   \n",
       "618730    36           5 2016-10-01       2005-06-01   2017-12-01   \n",
       "111143    36           6 2017-03-01       2012-01-01   2017-12-01   \n",
       "...      ...         ...        ...              ...          ...   \n",
       "150426    36           8 2017-02-01       1998-11-01   2017-11-01   \n",
       "195135    36           0 2017-01-01       1993-09-01   2017-12-01   \n",
       "182511    36          10 2017-01-01       1988-03-01   2017-12-01   \n",
       "82596     36           3 2017-04-01       2003-01-01   2017-12-01   \n",
       "165904    36           1 2017-02-01       2000-11-01   2017-12-01   \n",
       "\n",
       "       last_credit_pull_d  \n",
       "147577         2017-12-01  \n",
       "505776         2017-11-01  \n",
       "412425         2017-12-01  \n",
       "618730         2017-12-01  \n",
       "111143         2017-12-01  \n",
       "...                   ...  \n",
       "150426         2017-12-01  \n",
       "195135         2017-12-01  \n",
       "182511         2017-12-01  \n",
       "82596          2017-12-01  \n",
       "165904         2017-12-01  \n",
       "\n",
       "[607470 rows x 6 columns]"
      ]
     },
     "execution_count": 42,
     "metadata": {},
     "output_type": "execute_result"
    }
   ],
   "source": [
    "X_train"
   ]
  },
  {
   "cell_type": "code",
   "execution_count": 43,
   "id": "d114d973",
   "metadata": {},
   "outputs": [],
   "source": [
    "# Dibentuk function untuk mengukur banyak bulan setelah peminjam meminjam uang\n",
    "# Catatan : mengapa jumlah bulannya terlampau banyak dari kolom 'term', itu dikarenakan memakai acuan tanggal hari ini. \n",
    "# Sehingga, data nya menjadi bias. Seharusnya, menggunakan acuan tanggal saat dimana pinjaman dibuat\n",
    "# Namun, sebagai contoh tidak apa-apa\n",
    "\n",
    "def date_columns(df, column) :\n",
    "    today_date = pd.to_datetime(date.today().strftime('%Y-%m-%d'))\n",
    "    df[column] = pd.to_datetime(df[column], format = \"%b-%y\")\n",
    "    df['mths_since_' + column] = round(pd.to_numeric((today_date - df[column]) / np.timedelta64(1, 'M')))\n",
    "    df.drop(columns = [column], inplace=True)\n",
    "\n",
    "# Aplikasikan pada X_train\n",
    "date_columns(X_train, 'earliest_cr_line')\n",
    "date_columns(X_train, 'issue_d')\n",
    "date_columns(X_train, 'last_pymnt_d')\n",
    "date_columns(X_train, 'last_credit_pull_d')\n",
    "\n",
    "# Aplikasikan pada X_test\n",
    "date_columns(X_test, 'earliest_cr_line')\n",
    "date_columns(X_test, 'issue_d')\n",
    "date_columns(X_test, 'last_pymnt_d')\n",
    "date_columns(X_test, 'last_credit_pull_d')"
   ]
  },
  {
   "cell_type": "code",
   "execution_count": 44,
   "id": "6dfe22df",
   "metadata": {},
   "outputs": [
    {
     "data": {
      "text/html": [
       "<div>\n",
       "<style scoped>\n",
       "    .dataframe tbody tr th:only-of-type {\n",
       "        vertical-align: middle;\n",
       "    }\n",
       "\n",
       "    .dataframe tbody tr th {\n",
       "        vertical-align: top;\n",
       "    }\n",
       "\n",
       "    .dataframe thead th {\n",
       "        text-align: right;\n",
       "    }\n",
       "</style>\n",
       "<table border=\"1\" class=\"dataframe\">\n",
       "  <thead>\n",
       "    <tr style=\"text-align: right;\">\n",
       "      <th></th>\n",
       "      <th>term</th>\n",
       "      <th>emp_length</th>\n",
       "      <th>mths_since_earliest_cr_line</th>\n",
       "      <th>mths_since_issue_d</th>\n",
       "      <th>mths_since_last_pymnt_d</th>\n",
       "      <th>mths_since_last_credit_pull_d</th>\n",
       "    </tr>\n",
       "  </thead>\n",
       "  <tbody>\n",
       "    <tr>\n",
       "      <th>147577</th>\n",
       "      <td>36</td>\n",
       "      <td>4</td>\n",
       "      <td>354.0</td>\n",
       "      <td>84.0</td>\n",
       "      <td>74.0</td>\n",
       "      <td>74.0</td>\n",
       "    </tr>\n",
       "    <tr>\n",
       "      <th>505776</th>\n",
       "      <td>36</td>\n",
       "      <td>10</td>\n",
       "      <td>269.0</td>\n",
       "      <td>94.0</td>\n",
       "      <td>79.0</td>\n",
       "      <td>75.0</td>\n",
       "    </tr>\n",
       "    <tr>\n",
       "      <th>412425</th>\n",
       "      <td>36</td>\n",
       "      <td>0</td>\n",
       "      <td>297.0</td>\n",
       "      <td>79.0</td>\n",
       "      <td>74.0</td>\n",
       "      <td>74.0</td>\n",
       "    </tr>\n",
       "    <tr>\n",
       "      <th>618730</th>\n",
       "      <td>36</td>\n",
       "      <td>5</td>\n",
       "      <td>224.0</td>\n",
       "      <td>88.0</td>\n",
       "      <td>74.0</td>\n",
       "      <td>74.0</td>\n",
       "    </tr>\n",
       "    <tr>\n",
       "      <th>111143</th>\n",
       "      <td>36</td>\n",
       "      <td>6</td>\n",
       "      <td>145.0</td>\n",
       "      <td>83.0</td>\n",
       "      <td>74.0</td>\n",
       "      <td>74.0</td>\n",
       "    </tr>\n",
       "    <tr>\n",
       "      <th>...</th>\n",
       "      <td>...</td>\n",
       "      <td>...</td>\n",
       "      <td>...</td>\n",
       "      <td>...</td>\n",
       "      <td>...</td>\n",
       "      <td>...</td>\n",
       "    </tr>\n",
       "    <tr>\n",
       "      <th>150426</th>\n",
       "      <td>36</td>\n",
       "      <td>8</td>\n",
       "      <td>303.0</td>\n",
       "      <td>84.0</td>\n",
       "      <td>75.0</td>\n",
       "      <td>74.0</td>\n",
       "    </tr>\n",
       "    <tr>\n",
       "      <th>195135</th>\n",
       "      <td>36</td>\n",
       "      <td>0</td>\n",
       "      <td>365.0</td>\n",
       "      <td>85.0</td>\n",
       "      <td>74.0</td>\n",
       "      <td>74.0</td>\n",
       "    </tr>\n",
       "    <tr>\n",
       "      <th>182511</th>\n",
       "      <td>36</td>\n",
       "      <td>10</td>\n",
       "      <td>431.0</td>\n",
       "      <td>85.0</td>\n",
       "      <td>74.0</td>\n",
       "      <td>74.0</td>\n",
       "    </tr>\n",
       "    <tr>\n",
       "      <th>82596</th>\n",
       "      <td>36</td>\n",
       "      <td>3</td>\n",
       "      <td>253.0</td>\n",
       "      <td>82.0</td>\n",
       "      <td>74.0</td>\n",
       "      <td>74.0</td>\n",
       "    </tr>\n",
       "    <tr>\n",
       "      <th>165904</th>\n",
       "      <td>36</td>\n",
       "      <td>1</td>\n",
       "      <td>279.0</td>\n",
       "      <td>84.0</td>\n",
       "      <td>74.0</td>\n",
       "      <td>74.0</td>\n",
       "    </tr>\n",
       "  </tbody>\n",
       "</table>\n",
       "<p>607470 rows × 6 columns</p>\n",
       "</div>"
      ],
      "text/plain": [
       "        term  emp_length  mths_since_earliest_cr_line  mths_since_issue_d  \\\n",
       "147577    36           4                        354.0                84.0   \n",
       "505776    36          10                        269.0                94.0   \n",
       "412425    36           0                        297.0                79.0   \n",
       "618730    36           5                        224.0                88.0   \n",
       "111143    36           6                        145.0                83.0   \n",
       "...      ...         ...                          ...                 ...   \n",
       "150426    36           8                        303.0                84.0   \n",
       "195135    36           0                        365.0                85.0   \n",
       "182511    36          10                        431.0                85.0   \n",
       "82596     36           3                        253.0                82.0   \n",
       "165904    36           1                        279.0                84.0   \n",
       "\n",
       "        mths_since_last_pymnt_d  mths_since_last_credit_pull_d  \n",
       "147577                     74.0                           74.0  \n",
       "505776                     79.0                           75.0  \n",
       "412425                     74.0                           74.0  \n",
       "618730                     74.0                           74.0  \n",
       "111143                     74.0                           74.0  \n",
       "...                         ...                            ...  \n",
       "150426                     75.0                           74.0  \n",
       "195135                     74.0                           74.0  \n",
       "182511                     74.0                           74.0  \n",
       "82596                      74.0                           74.0  \n",
       "165904                     74.0                           74.0  \n",
       "\n",
       "[607470 rows x 6 columns]"
      ]
     },
     "execution_count": 44,
     "metadata": {},
     "output_type": "execute_result"
    }
   ],
   "source": [
    "# Dapat dilihat bahwa data X_train sudah berbentuk numerik\n",
    "\n",
    "X_train"
   ]
  },
  {
   "cell_type": "code",
   "execution_count": 45,
   "id": "f1747285",
   "metadata": {},
   "outputs": [
    {
     "data": {
      "text/html": [
       "<div>\n",
       "<style scoped>\n",
       "    .dataframe tbody tr th:only-of-type {\n",
       "        vertical-align: middle;\n",
       "    }\n",
       "\n",
       "    .dataframe tbody tr th {\n",
       "        vertical-align: top;\n",
       "    }\n",
       "\n",
       "    .dataframe thead th {\n",
       "        text-align: right;\n",
       "    }\n",
       "</style>\n",
       "<table border=\"1\" class=\"dataframe\">\n",
       "  <thead>\n",
       "    <tr style=\"text-align: right;\">\n",
       "      <th></th>\n",
       "      <th>term</th>\n",
       "      <th>emp_length</th>\n",
       "      <th>mths_since_earliest_cr_line</th>\n",
       "      <th>mths_since_issue_d</th>\n",
       "      <th>mths_since_last_pymnt_d</th>\n",
       "      <th>mths_since_last_credit_pull_d</th>\n",
       "    </tr>\n",
       "  </thead>\n",
       "  <tbody>\n",
       "    <tr>\n",
       "      <th>280647</th>\n",
       "      <td>60</td>\n",
       "      <td>10</td>\n",
       "      <td>291.0</td>\n",
       "      <td>91.0</td>\n",
       "      <td>81.0</td>\n",
       "      <td>74.0</td>\n",
       "    </tr>\n",
       "    <tr>\n",
       "      <th>419992</th>\n",
       "      <td>36</td>\n",
       "      <td>7</td>\n",
       "      <td>217.0</td>\n",
       "      <td>79.0</td>\n",
       "      <td>74.0</td>\n",
       "      <td>74.0</td>\n",
       "    </tr>\n",
       "    <tr>\n",
       "      <th>44633</th>\n",
       "      <td>36</td>\n",
       "      <td>0</td>\n",
       "      <td>566.0</td>\n",
       "      <td>81.0</td>\n",
       "      <td>75.0</td>\n",
       "      <td>81.0</td>\n",
       "    </tr>\n",
       "    <tr>\n",
       "      <th>245940</th>\n",
       "      <td>36</td>\n",
       "      <td>2</td>\n",
       "      <td>218.0</td>\n",
       "      <td>90.0</td>\n",
       "      <td>75.0</td>\n",
       "      <td>74.0</td>\n",
       "    </tr>\n",
       "    <tr>\n",
       "      <th>565744</th>\n",
       "      <td>36</td>\n",
       "      <td>0</td>\n",
       "      <td>640.0</td>\n",
       "      <td>87.0</td>\n",
       "      <td>74.0</td>\n",
       "      <td>74.0</td>\n",
       "    </tr>\n",
       "    <tr>\n",
       "      <th>...</th>\n",
       "      <td>...</td>\n",
       "      <td>...</td>\n",
       "      <td>...</td>\n",
       "      <td>...</td>\n",
       "      <td>...</td>\n",
       "      <td>...</td>\n",
       "    </tr>\n",
       "    <tr>\n",
       "      <th>70748</th>\n",
       "      <td>36</td>\n",
       "      <td>4</td>\n",
       "      <td>143.0</td>\n",
       "      <td>81.0</td>\n",
       "      <td>74.0</td>\n",
       "      <td>74.0</td>\n",
       "    </tr>\n",
       "    <tr>\n",
       "      <th>43047</th>\n",
       "      <td>60</td>\n",
       "      <td>4</td>\n",
       "      <td>259.0</td>\n",
       "      <td>81.0</td>\n",
       "      <td>74.0</td>\n",
       "      <td>74.0</td>\n",
       "    </tr>\n",
       "    <tr>\n",
       "      <th>99030</th>\n",
       "      <td>36</td>\n",
       "      <td>0</td>\n",
       "      <td>246.0</td>\n",
       "      <td>82.0</td>\n",
       "      <td>74.0</td>\n",
       "      <td>83.0</td>\n",
       "    </tr>\n",
       "    <tr>\n",
       "      <th>625689</th>\n",
       "      <td>36</td>\n",
       "      <td>1</td>\n",
       "      <td>138.0</td>\n",
       "      <td>95.0</td>\n",
       "      <td>74.0</td>\n",
       "      <td>74.0</td>\n",
       "    </tr>\n",
       "    <tr>\n",
       "      <th>267584</th>\n",
       "      <td>36</td>\n",
       "      <td>10</td>\n",
       "      <td>258.0</td>\n",
       "      <td>91.0</td>\n",
       "      <td>74.0</td>\n",
       "      <td>74.0</td>\n",
       "    </tr>\n",
       "  </tbody>\n",
       "</table>\n",
       "<p>151868 rows × 6 columns</p>\n",
       "</div>"
      ],
      "text/plain": [
       "        term  emp_length  mths_since_earliest_cr_line  mths_since_issue_d  \\\n",
       "280647    60          10                        291.0                91.0   \n",
       "419992    36           7                        217.0                79.0   \n",
       "44633     36           0                        566.0                81.0   \n",
       "245940    36           2                        218.0                90.0   \n",
       "565744    36           0                        640.0                87.0   \n",
       "...      ...         ...                          ...                 ...   \n",
       "70748     36           4                        143.0                81.0   \n",
       "43047     60           4                        259.0                81.0   \n",
       "99030     36           0                        246.0                82.0   \n",
       "625689    36           1                        138.0                95.0   \n",
       "267584    36          10                        258.0                91.0   \n",
       "\n",
       "        mths_since_last_pymnt_d  mths_since_last_credit_pull_d  \n",
       "280647                     81.0                           74.0  \n",
       "419992                     74.0                           74.0  \n",
       "44633                      75.0                           81.0  \n",
       "245940                     75.0                           74.0  \n",
       "565744                     74.0                           74.0  \n",
       "...                         ...                            ...  \n",
       "70748                      74.0                           74.0  \n",
       "43047                      74.0                           74.0  \n",
       "99030                      74.0                           83.0  \n",
       "625689                     74.0                           74.0  \n",
       "267584                     74.0                           74.0  \n",
       "\n",
       "[151868 rows x 6 columns]"
      ]
     },
     "execution_count": 45,
     "metadata": {},
     "output_type": "execute_result"
    }
   ],
   "source": [
    "# Dapat dilihat bahwa data X_test sudah berbentuk numerik\n",
    "\n",
    "X_test"
   ]
  },
  {
   "cell_type": "code",
   "execution_count": 46,
   "id": "947dcfc4",
   "metadata": {},
   "outputs": [
    {
     "data": {
      "text/plain": [
       "term                               0\n",
       "emp_length                         0\n",
       "mths_since_earliest_cr_line        0\n",
       "mths_since_issue_d                 0\n",
       "mths_since_last_pymnt_d          735\n",
       "mths_since_last_credit_pull_d     17\n",
       "dtype: int64"
      ]
     },
     "execution_count": 46,
     "metadata": {},
     "output_type": "execute_result"
    }
   ],
   "source": [
    "# Dapat dilihat bahwa masih terdapat 735 data kosong pada kolom 'last_pymnt_d' dan 1 data kosong'last_credit_pull_d'\n",
    "\n",
    "X_train.isnull().sum()"
   ]
  },
  {
   "cell_type": "code",
   "execution_count": 47,
   "id": "4fe5a8ef",
   "metadata": {},
   "outputs": [
    {
     "data": {
      "text/plain": [
       "term                               0\n",
       "emp_length                         0\n",
       "mths_since_earliest_cr_line        0\n",
       "mths_since_issue_d                 0\n",
       "mths_since_last_pymnt_d          213\n",
       "mths_since_last_credit_pull_d      1\n",
       "dtype: int64"
      ]
     },
     "execution_count": 47,
     "metadata": {},
     "output_type": "execute_result"
    }
   ],
   "source": [
    "# Dapat dilihat bahwa masih terdapat 213 data kosong pada kolom 'last_pymnt_d' dan 1 data kosong'last_credit_pull_d'\n",
    "\n",
    "X_test.isnull().sum()"
   ]
  },
  {
   "cell_type": "code",
   "execution_count": 48,
   "id": "bdb2d7a0",
   "metadata": {},
   "outputs": [],
   "source": [
    "# Lalu, X_train dan X_test akan diisi dengan data mean dari masing-masing kolom\n",
    "\n",
    "X_train.fillna(X_train.mean(), inplace=True)\n",
    "X_test.fillna(X_test.median(), inplace=True)"
   ]
  },
  {
   "cell_type": "code",
   "execution_count": 49,
   "id": "f4138ea0",
   "metadata": {},
   "outputs": [
    {
     "data": {
      "text/plain": [
       "term                             0\n",
       "emp_length                       0\n",
       "mths_since_earliest_cr_line      0\n",
       "mths_since_issue_d               0\n",
       "mths_since_last_pymnt_d          0\n",
       "mths_since_last_credit_pull_d    0\n",
       "dtype: int64"
      ]
     },
     "execution_count": 49,
     "metadata": {},
     "output_type": "execute_result"
    }
   ],
   "source": [
    "# Dapat dilihat bahwa sudah tidak ada data yang kosong pada X_train\n",
    "\n",
    "X_train.isnull().sum()"
   ]
  },
  {
   "cell_type": "code",
   "execution_count": 50,
   "id": "f34e26e5",
   "metadata": {},
   "outputs": [
    {
     "data": {
      "text/plain": [
       "term                             0\n",
       "emp_length                       0\n",
       "mths_since_earliest_cr_line      0\n",
       "mths_since_issue_d               0\n",
       "mths_since_last_pymnt_d          0\n",
       "mths_since_last_credit_pull_d    0\n",
       "dtype: int64"
      ]
     },
     "execution_count": 50,
     "metadata": {},
     "output_type": "execute_result"
    }
   ],
   "source": [
    "# Dapat dilihat bahwa sudah tidak ada data yang kosong pada X_test\n",
    "\n",
    "X_test.isnull().sum()"
   ]
  },
  {
   "cell_type": "markdown",
   "id": "bbc7c405",
   "metadata": {},
   "source": [
    "# "
   ]
  },
  {
   "cell_type": "markdown",
   "id": "2cda50ac",
   "metadata": {},
   "source": [
    "# 7. Modelling"
   ]
  },
  {
   "cell_type": "code",
   "execution_count": 51,
   "id": "1815abd0",
   "metadata": {},
   "outputs": [],
   "source": [
    "# Diimport model Logistic Regresi untuk melakukan proses machine learning data\n",
    "\n",
    "from sklearn.linear_model import LogisticRegression"
   ]
  },
  {
   "cell_type": "code",
   "execution_count": 52,
   "id": "c726dd4f",
   "metadata": {},
   "outputs": [],
   "source": [
    "# Dibentuk variabel untuk model Logistic Regresi, yaitu 'model'\n",
    "\n",
    "model = LogisticRegression()"
   ]
  },
  {
   "cell_type": "code",
   "execution_count": 53,
   "id": "e194a110",
   "metadata": {},
   "outputs": [],
   "source": [
    "# Dibentuk fitting data dari data train 'X_train' dan 'y_train'\n",
    "# Dibentuk variabel prediksi yang mempengaruhi berdasarkan variabel independent 'X_test'\n",
    "\n",
    "model.fit(X_train, y_train)\n",
    "y_pred = model.predict(X_test)"
   ]
  },
  {
   "cell_type": "code",
   "execution_count": 54,
   "id": "9ead65fe",
   "metadata": {},
   "outputs": [
    {
     "data": {
      "text/html": [
       "<div>\n",
       "<style scoped>\n",
       "    .dataframe tbody tr th:only-of-type {\n",
       "        vertical-align: middle;\n",
       "    }\n",
       "\n",
       "    .dataframe tbody tr th {\n",
       "        vertical-align: top;\n",
       "    }\n",
       "\n",
       "    .dataframe thead th {\n",
       "        text-align: right;\n",
       "    }\n",
       "</style>\n",
       "<table border=\"1\" class=\"dataframe\">\n",
       "  <thead>\n",
       "    <tr style=\"text-align: right;\">\n",
       "      <th></th>\n",
       "      <th>y_pred</th>\n",
       "      <th>y_test</th>\n",
       "    </tr>\n",
       "  </thead>\n",
       "  <tbody>\n",
       "    <tr>\n",
       "      <th>0</th>\n",
       "      <td>0</td>\n",
       "      <td>1</td>\n",
       "    </tr>\n",
       "    <tr>\n",
       "      <th>1</th>\n",
       "      <td>0</td>\n",
       "      <td>0</td>\n",
       "    </tr>\n",
       "    <tr>\n",
       "      <th>2</th>\n",
       "      <td>0</td>\n",
       "      <td>0</td>\n",
       "    </tr>\n",
       "    <tr>\n",
       "      <th>3</th>\n",
       "      <td>0</td>\n",
       "      <td>0</td>\n",
       "    </tr>\n",
       "    <tr>\n",
       "      <th>4</th>\n",
       "      <td>0</td>\n",
       "      <td>0</td>\n",
       "    </tr>\n",
       "  </tbody>\n",
       "</table>\n",
       "</div>"
      ],
      "text/plain": [
       "   y_pred  y_test\n",
       "0       0       1\n",
       "1       0       0\n",
       "2       0       0\n",
       "3       0       0\n",
       "4       0       0"
      ]
     },
     "execution_count": 54,
     "metadata": {},
     "output_type": "execute_result"
    }
   ],
   "source": [
    "# Dibentuk variabel 'result' yang berisikan hasil dari machine learning dengan menggunakan model 'LogisticRegression'\n",
    "# Berdasarkan 5 data pertama, dapat dilihat bahwa 4 dari 5 data tersebut benar diprediksi\n",
    "# *catatan : 'y_pred' adalah variabel yang dilakukan uji coba dan 'y_test' adalah variabel kunci atau hasil sebenarnya\n",
    "\n",
    "result = pd.DataFrame(list(zip(y_pred, y_test)), columns = ['y_pred', 'y_test'])\n",
    "result.head()"
   ]
  },
  {
   "cell_type": "code",
   "execution_count": 55,
   "id": "58f29d05",
   "metadata": {},
   "outputs": [
    {
     "data": {
      "text/plain": [
       "0.9172109990254694"
      ]
     },
     "execution_count": 55,
     "metadata": {},
     "output_type": "execute_result"
    }
   ],
   "source": [
    "# Lalu, akan dicari skor akurasi prediksi dengan variabel-variabel prediksi yang digabung menjadi 'y_pred'\n",
    "# Diimport 'accuracy_score' dari sklearn.metrics\n",
    "# Dapat dilihat bahwa skor akurasinya sekitar 90% atau 0,9...\n",
    "\n",
    "from sklearn.metrics import accuracy_score\n",
    "accuracy_score(y_test, y_pred)"
   ]
  },
  {
   "cell_type": "code",
   "execution_count": 56,
   "id": "db292428",
   "metadata": {},
   "outputs": [],
   "source": [
    "# Karena hasil akurasi ini masih terlalu general, maka akan digunakan property penguji akurasi yang lainnya\n",
    "# Diimport 'confusion_matrix' dari sklearn.metrics\n",
    "\n",
    "from sklearn.metrics import confusion_matrix\n",
    "import matplotlib.pyplot as plt\n",
    "import seaborn as sns"
   ]
  },
  {
   "cell_type": "code",
   "execution_count": 57,
   "id": "cde3961f",
   "metadata": {},
   "outputs": [
    {
     "data": {
      "image/png": "[encoded data removed]",
      "text/plain": [
       "<Figure size 640x480 with 2 Axes>"
      ]
     },
     "metadata": {},
     "output_type": "display_data"
    }
   ],
   "source": [
    "# Matriks kebingungan digunakan untuk mengevaluasi kinerja model \n",
    "# klasifikasi dengan membandingkan nilai sebenarnya (y_test) dan nilai prediksi (y_pred).\n",
    "cm = confusion_matrix(y_test, y_pred)\n",
    "\n",
    "# fungsi 'heatmap' dari modul seaborn untuk membuat peta panas dari confusion matrix (cm).\n",
    "# 'annot=True' digunakan untuk menampilkan nilai di dalam sel, \n",
    "# 'fmt='.0f'' digunakan untuk mengatur format nilai di dalam sel (dalam hal ini, bilangan bulat tanpa desimal), \n",
    "# 'cmap=plt.cm.Blues' digunakan untuk mengatur skema warna peta panas\n",
    "\n",
    "sns.heatmap(cm, annot=True, fmt='.0f', cmap=plt.cm.Blues)\n",
    "plt.xlabel('y_pred')\n",
    "plt.ylabel('y_test')\n",
    "\n",
    "plt.show()"
   ]
  },
  {
   "cell_type": "code",
   "execution_count": 58,
   "id": "a029aa86",
   "metadata": {},
   "outputs": [
    {
     "data": {
      "text/plain": [
       "0    0.925642\n",
       "1    0.074358\n",
       "Name: good_bad, dtype: float64"
      ]
     },
     "execution_count": 58,
     "metadata": {},
     "output_type": "execute_result"
    }
   ],
   "source": [
    "y_train.value_counts(normalize=True)\n",
    "\n",
    "# Dapat dilihat bahwa kecenderungan untuk machine learning memiliki '0' atau berhasil bayar sangatlah tinggi, yaitu 90%\n",
    "# Hal ini dapat berarti ketidakseimbangan, oleh karenanya perlu dilakukan pengujian akurasi kembali"
   ]
  },
  {
   "cell_type": "markdown",
   "id": "20b7d654",
   "metadata": {},
   "source": [
    "# "
   ]
  },
  {
   "cell_type": "markdown",
   "id": "5d58e292",
   "metadata": {},
   "source": [
    "# 8. Modelling 2"
   ]
  },
  {
   "cell_type": "code",
   "execution_count": 59,
   "id": "8c8d3ce1",
   "metadata": {},
   "outputs": [
    {
     "data": {
      "text/plain": [
       "array([0, 0, 0, ..., 0, 0, 0])"
      ]
     },
     "execution_count": 59,
     "metadata": {},
     "output_type": "execute_result"
    }
   ],
   "source": [
    "# Berikut adalah model prediksi dari variabel independent\n",
    "# '0' disini mengartikan berhasil bayar\n",
    "model.predict(X_test)"
   ]
  },
  {
   "cell_type": "code",
   "execution_count": 60,
   "id": "cc13f4e8",
   "metadata": {},
   "outputs": [
    {
     "data": {
      "text/plain": [
       "array([[0.77335211, 0.22664789],\n",
       "       [0.97521061, 0.02478939],\n",
       "       [0.98971371, 0.01028629],\n",
       "       ...,\n",
       "       [0.99130955, 0.00869045],\n",
       "       [0.93561291, 0.06438709],\n",
       "       [0.96325881, 0.03674119]])"
      ]
     },
     "execution_count": 60,
     "metadata": {},
     "output_type": "execute_result"
    }
   ],
   "source": [
    "# Berikut adalah probabilitas dari machine learningnya\n",
    "# Kolom pertama adalah kolom probabilitas yang berhasil bayar\n",
    "# Kolom kedua adalah kolom probabilitas yang gagal bayar\n",
    "model.predict_proba(X_test)\n",
    "\n",
    "# Karena project berikut lebih condong untuk mencari presentasi kegagalan bayar, maka akan digunakan kolom kedua saja"
   ]
  },
  {
   "cell_type": "code",
   "execution_count": 72,
   "id": "365df0db",
   "metadata": {},
   "outputs": [],
   "source": [
    "y_pred = model.predict_proba(X_test)[:, 1]"
   ]
  },
  {
   "cell_type": "code",
   "execution_count": 71,
   "id": "96f21d11",
   "metadata": {},
   "outputs": [
    {
     "data": {
      "text/plain": [
       "array([0, 0, 0, ..., 0, 0, 0])"
      ]
     },
     "execution_count": 71,
     "metadata": {},
     "output_type": "execute_result"
    }
   ],
   "source": [
    "# '0' mengartikan bahwa 'False' atau banyak yang gagal bayar\n",
    "# Dengan demikian, kita perlu mencari thresholds yang mungkin lebih kecil dari 0.5\n",
    "(y_pred > 0.5).astype(int)"
   ]
  },
  {
   "cell_type": "code",
   "execution_count": 64,
   "id": "c010e4c9",
   "metadata": {},
   "outputs": [
    {
     "data": {
      "text/plain": [
       "(array([131217.,   9156.,   4312.,   2419.,   1537.,   1027.,    861.,\n",
       "           682.,    458.,    199.]),\n",
       " array([0.00133184, 0.0969471 , 0.19256237, 0.28817763, 0.3837929 ,\n",
       "        0.47940816, 0.57502343, 0.67063869, 0.76625396, 0.86186922,\n",
       "        0.95748449]),\n",
       " <BarContainer object of 10 artists>)"
      ]
     },
     "execution_count": 64,
     "metadata": {},
     "output_type": "execute_result"
    },
    {
     "data": {
      "image/png": "[encoded data removed]",
      "text/plain": [
       "<Figure size 640x480 with 1 Axes>"
      ]
     },
     "metadata": {},
     "output_type": "display_data"
    }
   ],
   "source": [
    "plt.hist(y_pred)\n",
    "\n",
    "# Dapat dilihat bahwa model prediksi dari variabel dependent atau y_pred memiliki kecenderungan berada disekitar 0 sampai 0.1\n",
    "# Inilah kasus 'imbalance'\n",
    "# Sehingga, perlu dicari best threshold dari truepositive rate"
   ]
  },
  {
   "cell_type": "code",
   "execution_count": 65,
   "id": "4320ca27",
   "metadata": {},
   "outputs": [],
   "source": [
    "# Diimport 'roc_curve' untuk mencari false positive rate (fpr), true positive rate (tpr), dan thresholds dari data imbalance\n",
    "from sklearn.metrics import roc_curve\n",
    "\n",
    "fpr, tpr, thresholds = roc_curve(y_test, y_pred)"
   ]
  },
  {
   "cell_type": "code",
   "execution_count": 66,
   "id": "6ec81f96",
   "metadata": {},
   "outputs": [
    {
     "data": {
      "text/plain": [
       "array([0.00000000e+00, 7.11364041e-06, 4.97954828e-05, ...,\n",
       "       9.99879068e-01, 9.99879068e-01, 1.00000000e+00])"
      ]
     },
     "execution_count": 66,
     "metadata": {},
     "output_type": "execute_result"
    }
   ],
   "source": [
    "# rumus fpr ada di google\n",
    "fpr"
   ]
  },
  {
   "cell_type": "code",
   "execution_count": 67,
   "id": "3c2c98ed",
   "metadata": {},
   "outputs": [
    {
     "data": {
      "text/plain": [
       "array([0.        , 0.        , 0.        , ..., 0.99991145, 1.        ,\n",
       "       1.        ])"
      ]
     },
     "execution_count": 67,
     "metadata": {},
     "output_type": "execute_result"
    }
   ],
   "source": [
    "# rumus tpr ada di google\n",
    "tpr"
   ]
  },
  {
   "cell_type": "code",
   "execution_count": 68,
   "id": "83dfa6e6",
   "metadata": {},
   "outputs": [
    {
     "data": {
      "text/plain": [
       "array([1.95748449e+00, 9.57484490e-01, 9.39890243e-01, ...,\n",
       "       2.54109396e-03, 2.40341313e-03, 1.33183596e-03])"
      ]
     },
     "execution_count": 68,
     "metadata": {},
     "output_type": "execute_result"
    }
   ],
   "source": [
    "# rumus thresholds ada di google\n",
    "thresholds"
   ]
  },
  {
   "cell_type": "code",
   "execution_count": 70,
   "id": "3c1440c0",
   "metadata": {},
   "outputs": [
    {
     "data": {
      "text/plain": [
       "0.06485077197370939"
      ]
     },
     "execution_count": 70,
     "metadata": {},
     "output_type": "execute_result"
    }
   ],
   "source": [
    "# Untuk mencari best thresholds, akan digunakan metode youden j-statistics\n",
    "# Hal ini dimaksudkan untuk mendapatkan nilai fpr yang serendah-rendahnya dan tpr yang setinggi-tingginya\n",
    "\n",
    "j = tpr - fpr\n",
    "\n",
    "# Berikut adalah menjadi indext dari j-statistics\n",
    "ix = np.argmax(j)\n",
    "\n",
    "# Berikut adalah penentuan thresholds dari data imbalance tersebut\n",
    "best_thresh = thresholds[ix]\n",
    "best_thresh\n",
    "\n",
    "# Didapatkan nilai pembandingnya adalah 0,06... atau 6%"
   ]
  },
  {
   "cell_type": "code",
   "execution_count": 75,
   "id": "2a25632d",
   "metadata": {},
   "outputs": [
    {
     "data": {
      "text/plain": [
       "array([1, 0, 0, ..., 0, 0, 0])"
      ]
     },
     "execution_count": 75,
     "metadata": {},
     "output_type": "execute_result"
    }
   ],
   "source": [
    "# Dapat dilihat bahwa tidak semuanya menghasilkan '0' atau 'False', \n",
    "# yang berarti, ternyata ada yang memungkinkan untuk berhasil bayar dari data imbalance yang \n",
    "# sudah diprediksi dengan accuracy_matrix\n",
    "y_pred = (y_pred > 0.065).astype(int)\n",
    "y_pred"
   ]
  },
  {
   "cell_type": "code",
   "execution_count": 77,
   "id": "f9dd7653",
   "metadata": {},
   "outputs": [
    {
     "data": {
      "image/png": "[encoded data removed]",
      "text/plain": [
       "<Figure size 640x480 with 2 Axes>"
      ]
     },
     "metadata": {},
     "output_type": "display_data"
    }
   ],
   "source": [
    "# Berikut adalah hasil confusion_matrix setelah menggunakan thresholds yang sesuai, yaitu 6%\n",
    "\n",
    "cm = confusion_matrix(y_test, y_pred)\n",
    "\n",
    "sns.heatmap(cm, annot=True, fmt='.0f', cmap=plt.cm.Blues)\n",
    "plt.xlabel('y_pred')\n",
    "plt.ylabel('y_test')\n",
    "\n",
    "plt.show()\n",
    "\n",
    "# Dapat dilihat peningkatan jumlah yang gagal bayar,\n",
    "# sehingga hal ini tentu saja prediksi yang lebih baik untuk menghindari kerugian"
   ]
  },
  {
   "cell_type": "code",
   "execution_count": 81,
   "id": "fce80108",
   "metadata": {},
   "outputs": [
    {
     "data": {
      "text/html": [
       "<div>\n",
       "<style scoped>\n",
       "    .dataframe tbody tr th:only-of-type {\n",
       "        vertical-align: middle;\n",
       "    }\n",
       "\n",
       "    .dataframe tbody tr th {\n",
       "        vertical-align: top;\n",
       "    }\n",
       "\n",
       "    .dataframe thead th {\n",
       "        text-align: right;\n",
       "    }\n",
       "</style>\n",
       "<table border=\"1\" class=\"dataframe\">\n",
       "  <thead>\n",
       "    <tr style=\"text-align: right;\">\n",
       "      <th></th>\n",
       "      <th>term</th>\n",
       "      <th>emp_length</th>\n",
       "      <th>mths_since_earliest_cr_line</th>\n",
       "      <th>mths_since_issue_d</th>\n",
       "      <th>mths_since_last_pymnt_d</th>\n",
       "      <th>mths_since_last_credit_pull_d</th>\n",
       "    </tr>\n",
       "  </thead>\n",
       "  <tbody>\n",
       "    <tr>\n",
       "      <th>0</th>\n",
       "      <td>0.017328</td>\n",
       "      <td>-0.031675</td>\n",
       "      <td>-0.001033</td>\n",
       "      <td>0.045267</td>\n",
       "      <td>0.23676</td>\n",
       "      <td>-0.15468</td>\n",
       "    </tr>\n",
       "  </tbody>\n",
       "</table>\n",
       "</div>"
      ],
      "text/plain": [
       "       term  emp_length  mths_since_earliest_cr_line  mths_since_issue_d  \\\n",
       "0  0.017328   -0.031675                    -0.001033            0.045267   \n",
       "\n",
       "   mths_since_last_pymnt_d  mths_since_last_credit_pull_d  \n",
       "0                  0.23676                       -0.15468  "
      ]
     },
     "execution_count": 81,
     "metadata": {},
     "output_type": "execute_result"
    }
   ],
   "source": [
    "# Ini adalah koefisien dari model Logistic Regression (Beta 0,...,6)\n",
    "df_coef = pd.DataFrame(model.coef_, columns=X_train.columns)\n",
    "df_coef\n",
    "\n",
    "# *catatan = direction yang (-) menandakan perbandingan terbalik antara semakin tingginya nilai dan kemungkinan gagal bayar\n",
    "# direction yang (+) menandakan perbandingan searah antara semakin tingginya nilai dan kemungkinan gagal bayar\n",
    "# angka\" dari df_coef menunjukkan menunjukkan probabilitas gagal bayar"
   ]
  },
  {
   "cell_type": "code",
   "execution_count": 82,
   "id": "89e4df89",
   "metadata": {},
   "outputs": [
    {
     "data": {
      "text/html": [
       "<div>\n",
       "<style scoped>\n",
       "    .dataframe tbody tr th:only-of-type {\n",
       "        vertical-align: middle;\n",
       "    }\n",
       "\n",
       "    .dataframe tbody tr th {\n",
       "        vertical-align: top;\n",
       "    }\n",
       "\n",
       "    .dataframe thead th {\n",
       "        text-align: right;\n",
       "    }\n",
       "</style>\n",
       "<table border=\"1\" class=\"dataframe\">\n",
       "  <thead>\n",
       "    <tr style=\"text-align: right;\">\n",
       "      <th></th>\n",
       "      <th>term</th>\n",
       "      <th>emp_length</th>\n",
       "      <th>mths_since_earliest_cr_line</th>\n",
       "      <th>mths_since_issue_d</th>\n",
       "      <th>mths_since_last_pymnt_d</th>\n",
       "      <th>mths_since_last_credit_pull_d</th>\n",
       "    </tr>\n",
       "  </thead>\n",
       "  <tbody>\n",
       "    <tr>\n",
       "      <th>147577</th>\n",
       "      <td>36</td>\n",
       "      <td>4</td>\n",
       "      <td>354.0</td>\n",
       "      <td>84.0</td>\n",
       "      <td>74.0</td>\n",
       "      <td>74.0</td>\n",
       "    </tr>\n",
       "    <tr>\n",
       "      <th>505776</th>\n",
       "      <td>36</td>\n",
       "      <td>10</td>\n",
       "      <td>269.0</td>\n",
       "      <td>94.0</td>\n",
       "      <td>79.0</td>\n",
       "      <td>75.0</td>\n",
       "    </tr>\n",
       "    <tr>\n",
       "      <th>412425</th>\n",
       "      <td>36</td>\n",
       "      <td>0</td>\n",
       "      <td>297.0</td>\n",
       "      <td>79.0</td>\n",
       "      <td>74.0</td>\n",
       "      <td>74.0</td>\n",
       "    </tr>\n",
       "    <tr>\n",
       "      <th>618730</th>\n",
       "      <td>36</td>\n",
       "      <td>5</td>\n",
       "      <td>224.0</td>\n",
       "      <td>88.0</td>\n",
       "      <td>74.0</td>\n",
       "      <td>74.0</td>\n",
       "    </tr>\n",
       "    <tr>\n",
       "      <th>111143</th>\n",
       "      <td>36</td>\n",
       "      <td>6</td>\n",
       "      <td>145.0</td>\n",
       "      <td>83.0</td>\n",
       "      <td>74.0</td>\n",
       "      <td>74.0</td>\n",
       "    </tr>\n",
       "  </tbody>\n",
       "</table>\n",
       "</div>"
      ],
      "text/plain": [
       "        term  emp_length  mths_since_earliest_cr_line  mths_since_issue_d  \\\n",
       "147577    36           4                        354.0                84.0   \n",
       "505776    36          10                        269.0                94.0   \n",
       "412425    36           0                        297.0                79.0   \n",
       "618730    36           5                        224.0                88.0   \n",
       "111143    36           6                        145.0                83.0   \n",
       "\n",
       "        mths_since_last_pymnt_d  mths_since_last_credit_pull_d  \n",
       "147577                     74.0                           74.0  \n",
       "505776                     79.0                           75.0  \n",
       "412425                     74.0                           74.0  \n",
       "618730                     74.0                           74.0  \n",
       "111143                     74.0                           74.0  "
      ]
     },
     "execution_count": 82,
     "metadata": {},
     "output_type": "execute_result"
    }
   ],
   "source": [
    "# Nilai-nilai yang dimaksud pada direction adalah nilai didalam kolom-kolom berikut \n",
    "X_train.head()"
   ]
  },
  {
   "cell_type": "code",
   "execution_count": null,
   "id": "961f1844",
   "metadata": {},
   "outputs": [],
   "source": [
    "# Demikianlah project Credit Risk Model\n",
    "# Kesimpulannya berada pada df_coef dan dibandingkan dengan X_train"
   ]
  }
 ],
 "metadata": {
  "kernelspec": {
   "display_name": "Python 3 (ipykernel)",
   "language": "python",
   "name": "python3"
  },
  "language_info": {
   "codemirror_mode": {
    "name": "ipython",
    "version": 3
   },
   "file_extension": ".py",
   "mimetype": "text/x-python",
   "name": "python",
   "nbconvert_exporter": "python",
   "pygments_lexer": "ipython3",
   "version": "3.9.13"
  }
 },
 "nbformat": 4,
 "nbformat_minor": 5
}
